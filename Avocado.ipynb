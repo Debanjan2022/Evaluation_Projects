{
 "cells": [
  {
   "cell_type": "code",
   "execution_count": 189,
   "metadata": {},
   "outputs": [],
   "source": [
    "import pandas as pd\n",
    "import numpy as np\n",
    "import matplotlib.pyplot as plt\n",
    "import seaborn as sns\n",
    "from scipy.stats import zscore\n",
    "import warnings\n",
    "warnings.filterwarnings('ignore')"
   ]
  },
  {
   "cell_type": "code",
   "execution_count": 190,
   "metadata": {},
   "outputs": [
    {
     "data": {
      "text/html": [
       "<div>\n",
       "<style scoped>\n",
       "    .dataframe tbody tr th:only-of-type {\n",
       "        vertical-align: middle;\n",
       "    }\n",
       "\n",
       "    .dataframe tbody tr th {\n",
       "        vertical-align: top;\n",
       "    }\n",
       "\n",
       "    .dataframe thead th {\n",
       "        text-align: right;\n",
       "    }\n",
       "</style>\n",
       "<table border=\"1\" class=\"dataframe\">\n",
       "  <thead>\n",
       "    <tr style=\"text-align: right;\">\n",
       "      <th></th>\n",
       "      <th>Unnamed: 0</th>\n",
       "      <th>Date</th>\n",
       "      <th>AveragePrice</th>\n",
       "      <th>Total Volume</th>\n",
       "      <th>4046</th>\n",
       "      <th>4225</th>\n",
       "      <th>4770</th>\n",
       "      <th>Total Bags</th>\n",
       "      <th>Small Bags</th>\n",
       "      <th>Large Bags</th>\n",
       "      <th>XLarge Bags</th>\n",
       "      <th>type</th>\n",
       "      <th>year</th>\n",
       "      <th>region</th>\n",
       "    </tr>\n",
       "  </thead>\n",
       "  <tbody>\n",
       "    <tr>\n",
       "      <th>0</th>\n",
       "      <td>0</td>\n",
       "      <td>27-12-2015</td>\n",
       "      <td>1.33</td>\n",
       "      <td>64236.62</td>\n",
       "      <td>1036.74</td>\n",
       "      <td>54454.85</td>\n",
       "      <td>48.16</td>\n",
       "      <td>8696.87</td>\n",
       "      <td>8603.62</td>\n",
       "      <td>93.25</td>\n",
       "      <td>0.00</td>\n",
       "      <td>conventional</td>\n",
       "      <td>2015</td>\n",
       "      <td>Albany</td>\n",
       "    </tr>\n",
       "    <tr>\n",
       "      <th>1</th>\n",
       "      <td>1</td>\n",
       "      <td>20-12-2015</td>\n",
       "      <td>1.35</td>\n",
       "      <td>54876.98</td>\n",
       "      <td>674.28</td>\n",
       "      <td>44638.81</td>\n",
       "      <td>58.33</td>\n",
       "      <td>9505.56</td>\n",
       "      <td>9408.07</td>\n",
       "      <td>97.49</td>\n",
       "      <td>0.00</td>\n",
       "      <td>conventional</td>\n",
       "      <td>2015</td>\n",
       "      <td>Albany</td>\n",
       "    </tr>\n",
       "    <tr>\n",
       "      <th>2</th>\n",
       "      <td>2</td>\n",
       "      <td>13-12-2015</td>\n",
       "      <td>0.93</td>\n",
       "      <td>118220.22</td>\n",
       "      <td>794.70</td>\n",
       "      <td>109149.67</td>\n",
       "      <td>130.50</td>\n",
       "      <td>8145.35</td>\n",
       "      <td>8042.21</td>\n",
       "      <td>103.14</td>\n",
       "      <td>0.00</td>\n",
       "      <td>conventional</td>\n",
       "      <td>2015</td>\n",
       "      <td>Albany</td>\n",
       "    </tr>\n",
       "    <tr>\n",
       "      <th>3</th>\n",
       "      <td>3</td>\n",
       "      <td>06-12-2015</td>\n",
       "      <td>1.08</td>\n",
       "      <td>78992.15</td>\n",
       "      <td>1132.00</td>\n",
       "      <td>71976.41</td>\n",
       "      <td>72.58</td>\n",
       "      <td>5811.16</td>\n",
       "      <td>5677.40</td>\n",
       "      <td>133.76</td>\n",
       "      <td>0.00</td>\n",
       "      <td>conventional</td>\n",
       "      <td>2015</td>\n",
       "      <td>Albany</td>\n",
       "    </tr>\n",
       "    <tr>\n",
       "      <th>4</th>\n",
       "      <td>4</td>\n",
       "      <td>29-11-2015</td>\n",
       "      <td>1.28</td>\n",
       "      <td>51039.60</td>\n",
       "      <td>941.48</td>\n",
       "      <td>43838.39</td>\n",
       "      <td>75.78</td>\n",
       "      <td>6183.95</td>\n",
       "      <td>5986.26</td>\n",
       "      <td>197.69</td>\n",
       "      <td>0.00</td>\n",
       "      <td>conventional</td>\n",
       "      <td>2015</td>\n",
       "      <td>Albany</td>\n",
       "    </tr>\n",
       "    <tr>\n",
       "      <th>...</th>\n",
       "      <td>...</td>\n",
       "      <td>...</td>\n",
       "      <td>...</td>\n",
       "      <td>...</td>\n",
       "      <td>...</td>\n",
       "      <td>...</td>\n",
       "      <td>...</td>\n",
       "      <td>...</td>\n",
       "      <td>...</td>\n",
       "      <td>...</td>\n",
       "      <td>...</td>\n",
       "      <td>...</td>\n",
       "      <td>...</td>\n",
       "      <td>...</td>\n",
       "    </tr>\n",
       "    <tr>\n",
       "      <th>1512</th>\n",
       "      <td>10</td>\n",
       "      <td>16-10-2016</td>\n",
       "      <td>1.39</td>\n",
       "      <td>190846.01</td>\n",
       "      <td>57529.11</td>\n",
       "      <td>56366.66</td>\n",
       "      <td>17531.78</td>\n",
       "      <td>59418.46</td>\n",
       "      <td>48823.53</td>\n",
       "      <td>10354.65</td>\n",
       "      <td>240.28</td>\n",
       "      <td>conventional</td>\n",
       "      <td>2016</td>\n",
       "      <td>Charlotte</td>\n",
       "    </tr>\n",
       "    <tr>\n",
       "      <th>1513</th>\n",
       "      <td>11</td>\n",
       "      <td>09-10-2016</td>\n",
       "      <td>1.51</td>\n",
       "      <td>178235.75</td>\n",
       "      <td>43325.87</td>\n",
       "      <td>52189.61</td>\n",
       "      <td>19419.57</td>\n",
       "      <td>63300.70</td>\n",
       "      <td>54704.14</td>\n",
       "      <td>8596.56</td>\n",
       "      <td>0.00</td>\n",
       "      <td>conventional</td>\n",
       "      <td>2016</td>\n",
       "      <td>Charlotte</td>\n",
       "    </tr>\n",
       "    <tr>\n",
       "      <th>1514</th>\n",
       "      <td>12</td>\n",
       "      <td>02-10-2016</td>\n",
       "      <td>1.48</td>\n",
       "      <td>178410.82</td>\n",
       "      <td>46364.75</td>\n",
       "      <td>52893.38</td>\n",
       "      <td>16736.92</td>\n",
       "      <td>62415.77</td>\n",
       "      <td>53332.61</td>\n",
       "      <td>8258.16</td>\n",
       "      <td>825.00</td>\n",
       "      <td>conventional</td>\n",
       "      <td>2016</td>\n",
       "      <td>Charlotte</td>\n",
       "    </tr>\n",
       "    <tr>\n",
       "      <th>1515</th>\n",
       "      <td>13</td>\n",
       "      <td>25-09-2016</td>\n",
       "      <td>1.47</td>\n",
       "      <td>189131.52</td>\n",
       "      <td>54110.79</td>\n",
       "      <td>53593.58</td>\n",
       "      <td>17495.42</td>\n",
       "      <td>63931.73</td>\n",
       "      <td>55653.47</td>\n",
       "      <td>8278.26</td>\n",
       "      <td>0.00</td>\n",
       "      <td>conventional</td>\n",
       "      <td>2016</td>\n",
       "      <td>Charlotte</td>\n",
       "    </tr>\n",
       "    <tr>\n",
       "      <th>1516</th>\n",
       "      <td>14</td>\n",
       "      <td>18-09-2016</td>\n",
       "      <td>1.43</td>\n",
       "      <td>182978.30</td>\n",
       "      <td>43116.41</td>\n",
       "      <td>54193.42</td>\n",
       "      <td>16563.91</td>\n",
       "      <td>69104.56</td>\n",
       "      <td>57456.21</td>\n",
       "      <td>11648.35</td>\n",
       "      <td>0.00</td>\n",
       "      <td>conventional</td>\n",
       "      <td>2016</td>\n",
       "      <td>Charlotte</td>\n",
       "    </tr>\n",
       "  </tbody>\n",
       "</table>\n",
       "<p>1517 rows × 14 columns</p>\n",
       "</div>"
      ],
      "text/plain": [
       "      Unnamed: 0        Date  AveragePrice  Total Volume      4046       4225  \\\n",
       "0              0  27-12-2015          1.33      64236.62   1036.74   54454.85   \n",
       "1              1  20-12-2015          1.35      54876.98    674.28   44638.81   \n",
       "2              2  13-12-2015          0.93     118220.22    794.70  109149.67   \n",
       "3              3  06-12-2015          1.08      78992.15   1132.00   71976.41   \n",
       "4              4  29-11-2015          1.28      51039.60    941.48   43838.39   \n",
       "...          ...         ...           ...           ...       ...        ...   \n",
       "1512          10  16-10-2016          1.39     190846.01  57529.11   56366.66   \n",
       "1513          11  09-10-2016          1.51     178235.75  43325.87   52189.61   \n",
       "1514          12  02-10-2016          1.48     178410.82  46364.75   52893.38   \n",
       "1515          13  25-09-2016          1.47     189131.52  54110.79   53593.58   \n",
       "1516          14  18-09-2016          1.43     182978.30  43116.41   54193.42   \n",
       "\n",
       "          4770  Total Bags  Small Bags  Large Bags  XLarge Bags          type  \\\n",
       "0        48.16     8696.87     8603.62       93.25         0.00  conventional   \n",
       "1        58.33     9505.56     9408.07       97.49         0.00  conventional   \n",
       "2       130.50     8145.35     8042.21      103.14         0.00  conventional   \n",
       "3        72.58     5811.16     5677.40      133.76         0.00  conventional   \n",
       "4        75.78     6183.95     5986.26      197.69         0.00  conventional   \n",
       "...        ...         ...         ...         ...          ...           ...   \n",
       "1512  17531.78    59418.46    48823.53    10354.65       240.28  conventional   \n",
       "1513  19419.57    63300.70    54704.14     8596.56         0.00  conventional   \n",
       "1514  16736.92    62415.77    53332.61     8258.16       825.00  conventional   \n",
       "1515  17495.42    63931.73    55653.47     8278.26         0.00  conventional   \n",
       "1516  16563.91    69104.56    57456.21    11648.35         0.00  conventional   \n",
       "\n",
       "      year     region  \n",
       "0     2015     Albany  \n",
       "1     2015     Albany  \n",
       "2     2015     Albany  \n",
       "3     2015     Albany  \n",
       "4     2015     Albany  \n",
       "...    ...        ...  \n",
       "1512  2016  Charlotte  \n",
       "1513  2016  Charlotte  \n",
       "1514  2016  Charlotte  \n",
       "1515  2016  Charlotte  \n",
       "1516  2016  Charlotte  \n",
       "\n",
       "[1517 rows x 14 columns]"
      ]
     },
     "execution_count": 190,
     "metadata": {},
     "output_type": "execute_result"
    }
   ],
   "source": [
    "df=pd.read_csv('Avocado_1518.csv')\n",
    "df "
   ]
  },
  {
   "cell_type": "code",
   "execution_count": 191,
   "metadata": {},
   "outputs": [
    {
     "data": {
      "text/plain": [
       "Unnamed: 0      0\n",
       "Date            0\n",
       "AveragePrice    0\n",
       "Total Volume    0\n",
       "4046            0\n",
       "4225            0\n",
       "4770            0\n",
       "Total Bags      0\n",
       "Small Bags      0\n",
       "Large Bags      0\n",
       "XLarge Bags     0\n",
       "type            0\n",
       "year            0\n",
       "region          0\n",
       "dtype: int64"
      ]
     },
     "execution_count": 191,
     "metadata": {},
     "output_type": "execute_result"
    }
   ],
   "source": [
    "df.isnull().sum()"
   ]
  },
  {
   "cell_type": "code",
   "execution_count": 192,
   "metadata": {},
   "outputs": [
    {
     "name": "stdout",
     "output_type": "stream",
     "text": [
      "<class 'pandas.core.frame.DataFrame'>\n",
      "RangeIndex: 1517 entries, 0 to 1516\n",
      "Data columns (total 14 columns):\n",
      " #   Column        Non-Null Count  Dtype  \n",
      "---  ------        --------------  -----  \n",
      " 0   Unnamed: 0    1517 non-null   int64  \n",
      " 1   Date          1517 non-null   object \n",
      " 2   AveragePrice  1517 non-null   float64\n",
      " 3   Total Volume  1517 non-null   float64\n",
      " 4   4046          1517 non-null   float64\n",
      " 5   4225          1517 non-null   float64\n",
      " 6   4770          1517 non-null   float64\n",
      " 7   Total Bags    1517 non-null   float64\n",
      " 8   Small Bags    1517 non-null   float64\n",
      " 9   Large Bags    1517 non-null   float64\n",
      " 10  XLarge Bags   1517 non-null   float64\n",
      " 11  type          1517 non-null   object \n",
      " 12  year          1517 non-null   int64  \n",
      " 13  region        1517 non-null   object \n",
      "dtypes: float64(9), int64(2), object(3)\n",
      "memory usage: 166.0+ KB\n"
     ]
    }
   ],
   "source": [
    "df.info()"
   ]
  },
  {
   "cell_type": "code",
   "execution_count": 193,
   "metadata": {},
   "outputs": [],
   "source": [
    "df.drop('Unnamed: 0',axis=1,inplace=True)"
   ]
  },
  {
   "cell_type": "code",
   "execution_count": 194,
   "metadata": {},
   "outputs": [
    {
     "data": {
      "text/html": [
       "<div>\n",
       "<style scoped>\n",
       "    .dataframe tbody tr th:only-of-type {\n",
       "        vertical-align: middle;\n",
       "    }\n",
       "\n",
       "    .dataframe tbody tr th {\n",
       "        vertical-align: top;\n",
       "    }\n",
       "\n",
       "    .dataframe thead th {\n",
       "        text-align: right;\n",
       "    }\n",
       "</style>\n",
       "<table border=\"1\" class=\"dataframe\">\n",
       "  <thead>\n",
       "    <tr style=\"text-align: right;\">\n",
       "      <th></th>\n",
       "      <th>Date</th>\n",
       "      <th>AveragePrice</th>\n",
       "      <th>Total Volume</th>\n",
       "      <th>4046</th>\n",
       "      <th>4225</th>\n",
       "      <th>4770</th>\n",
       "      <th>Total Bags</th>\n",
       "      <th>Small Bags</th>\n",
       "      <th>Large Bags</th>\n",
       "      <th>XLarge Bags</th>\n",
       "      <th>type</th>\n",
       "      <th>year</th>\n",
       "      <th>region</th>\n",
       "    </tr>\n",
       "  </thead>\n",
       "  <tbody>\n",
       "    <tr>\n",
       "      <th>0</th>\n",
       "      <td>27-12-2015</td>\n",
       "      <td>1.33</td>\n",
       "      <td>64236.62</td>\n",
       "      <td>1036.74</td>\n",
       "      <td>54454.85</td>\n",
       "      <td>48.16</td>\n",
       "      <td>8696.87</td>\n",
       "      <td>8603.62</td>\n",
       "      <td>93.25</td>\n",
       "      <td>0.00</td>\n",
       "      <td>conventional</td>\n",
       "      <td>2015</td>\n",
       "      <td>Albany</td>\n",
       "    </tr>\n",
       "    <tr>\n",
       "      <th>1</th>\n",
       "      <td>20-12-2015</td>\n",
       "      <td>1.35</td>\n",
       "      <td>54876.98</td>\n",
       "      <td>674.28</td>\n",
       "      <td>44638.81</td>\n",
       "      <td>58.33</td>\n",
       "      <td>9505.56</td>\n",
       "      <td>9408.07</td>\n",
       "      <td>97.49</td>\n",
       "      <td>0.00</td>\n",
       "      <td>conventional</td>\n",
       "      <td>2015</td>\n",
       "      <td>Albany</td>\n",
       "    </tr>\n",
       "    <tr>\n",
       "      <th>2</th>\n",
       "      <td>13-12-2015</td>\n",
       "      <td>0.93</td>\n",
       "      <td>118220.22</td>\n",
       "      <td>794.70</td>\n",
       "      <td>109149.67</td>\n",
       "      <td>130.50</td>\n",
       "      <td>8145.35</td>\n",
       "      <td>8042.21</td>\n",
       "      <td>103.14</td>\n",
       "      <td>0.00</td>\n",
       "      <td>conventional</td>\n",
       "      <td>2015</td>\n",
       "      <td>Albany</td>\n",
       "    </tr>\n",
       "    <tr>\n",
       "      <th>3</th>\n",
       "      <td>06-12-2015</td>\n",
       "      <td>1.08</td>\n",
       "      <td>78992.15</td>\n",
       "      <td>1132.00</td>\n",
       "      <td>71976.41</td>\n",
       "      <td>72.58</td>\n",
       "      <td>5811.16</td>\n",
       "      <td>5677.40</td>\n",
       "      <td>133.76</td>\n",
       "      <td>0.00</td>\n",
       "      <td>conventional</td>\n",
       "      <td>2015</td>\n",
       "      <td>Albany</td>\n",
       "    </tr>\n",
       "    <tr>\n",
       "      <th>4</th>\n",
       "      <td>29-11-2015</td>\n",
       "      <td>1.28</td>\n",
       "      <td>51039.60</td>\n",
       "      <td>941.48</td>\n",
       "      <td>43838.39</td>\n",
       "      <td>75.78</td>\n",
       "      <td>6183.95</td>\n",
       "      <td>5986.26</td>\n",
       "      <td>197.69</td>\n",
       "      <td>0.00</td>\n",
       "      <td>conventional</td>\n",
       "      <td>2015</td>\n",
       "      <td>Albany</td>\n",
       "    </tr>\n",
       "    <tr>\n",
       "      <th>...</th>\n",
       "      <td>...</td>\n",
       "      <td>...</td>\n",
       "      <td>...</td>\n",
       "      <td>...</td>\n",
       "      <td>...</td>\n",
       "      <td>...</td>\n",
       "      <td>...</td>\n",
       "      <td>...</td>\n",
       "      <td>...</td>\n",
       "      <td>...</td>\n",
       "      <td>...</td>\n",
       "      <td>...</td>\n",
       "      <td>...</td>\n",
       "    </tr>\n",
       "    <tr>\n",
       "      <th>1512</th>\n",
       "      <td>16-10-2016</td>\n",
       "      <td>1.39</td>\n",
       "      <td>190846.01</td>\n",
       "      <td>57529.11</td>\n",
       "      <td>56366.66</td>\n",
       "      <td>17531.78</td>\n",
       "      <td>59418.46</td>\n",
       "      <td>48823.53</td>\n",
       "      <td>10354.65</td>\n",
       "      <td>240.28</td>\n",
       "      <td>conventional</td>\n",
       "      <td>2016</td>\n",
       "      <td>Charlotte</td>\n",
       "    </tr>\n",
       "    <tr>\n",
       "      <th>1513</th>\n",
       "      <td>09-10-2016</td>\n",
       "      <td>1.51</td>\n",
       "      <td>178235.75</td>\n",
       "      <td>43325.87</td>\n",
       "      <td>52189.61</td>\n",
       "      <td>19419.57</td>\n",
       "      <td>63300.70</td>\n",
       "      <td>54704.14</td>\n",
       "      <td>8596.56</td>\n",
       "      <td>0.00</td>\n",
       "      <td>conventional</td>\n",
       "      <td>2016</td>\n",
       "      <td>Charlotte</td>\n",
       "    </tr>\n",
       "    <tr>\n",
       "      <th>1514</th>\n",
       "      <td>02-10-2016</td>\n",
       "      <td>1.48</td>\n",
       "      <td>178410.82</td>\n",
       "      <td>46364.75</td>\n",
       "      <td>52893.38</td>\n",
       "      <td>16736.92</td>\n",
       "      <td>62415.77</td>\n",
       "      <td>53332.61</td>\n",
       "      <td>8258.16</td>\n",
       "      <td>825.00</td>\n",
       "      <td>conventional</td>\n",
       "      <td>2016</td>\n",
       "      <td>Charlotte</td>\n",
       "    </tr>\n",
       "    <tr>\n",
       "      <th>1515</th>\n",
       "      <td>25-09-2016</td>\n",
       "      <td>1.47</td>\n",
       "      <td>189131.52</td>\n",
       "      <td>54110.79</td>\n",
       "      <td>53593.58</td>\n",
       "      <td>17495.42</td>\n",
       "      <td>63931.73</td>\n",
       "      <td>55653.47</td>\n",
       "      <td>8278.26</td>\n",
       "      <td>0.00</td>\n",
       "      <td>conventional</td>\n",
       "      <td>2016</td>\n",
       "      <td>Charlotte</td>\n",
       "    </tr>\n",
       "    <tr>\n",
       "      <th>1516</th>\n",
       "      <td>18-09-2016</td>\n",
       "      <td>1.43</td>\n",
       "      <td>182978.30</td>\n",
       "      <td>43116.41</td>\n",
       "      <td>54193.42</td>\n",
       "      <td>16563.91</td>\n",
       "      <td>69104.56</td>\n",
       "      <td>57456.21</td>\n",
       "      <td>11648.35</td>\n",
       "      <td>0.00</td>\n",
       "      <td>conventional</td>\n",
       "      <td>2016</td>\n",
       "      <td>Charlotte</td>\n",
       "    </tr>\n",
       "  </tbody>\n",
       "</table>\n",
       "<p>1517 rows × 13 columns</p>\n",
       "</div>"
      ],
      "text/plain": [
       "            Date  AveragePrice  Total Volume      4046       4225      4770  \\\n",
       "0     27-12-2015          1.33      64236.62   1036.74   54454.85     48.16   \n",
       "1     20-12-2015          1.35      54876.98    674.28   44638.81     58.33   \n",
       "2     13-12-2015          0.93     118220.22    794.70  109149.67    130.50   \n",
       "3     06-12-2015          1.08      78992.15   1132.00   71976.41     72.58   \n",
       "4     29-11-2015          1.28      51039.60    941.48   43838.39     75.78   \n",
       "...          ...           ...           ...       ...        ...       ...   \n",
       "1512  16-10-2016          1.39     190846.01  57529.11   56366.66  17531.78   \n",
       "1513  09-10-2016          1.51     178235.75  43325.87   52189.61  19419.57   \n",
       "1514  02-10-2016          1.48     178410.82  46364.75   52893.38  16736.92   \n",
       "1515  25-09-2016          1.47     189131.52  54110.79   53593.58  17495.42   \n",
       "1516  18-09-2016          1.43     182978.30  43116.41   54193.42  16563.91   \n",
       "\n",
       "      Total Bags  Small Bags  Large Bags  XLarge Bags          type  year  \\\n",
       "0        8696.87     8603.62       93.25         0.00  conventional  2015   \n",
       "1        9505.56     9408.07       97.49         0.00  conventional  2015   \n",
       "2        8145.35     8042.21      103.14         0.00  conventional  2015   \n",
       "3        5811.16     5677.40      133.76         0.00  conventional  2015   \n",
       "4        6183.95     5986.26      197.69         0.00  conventional  2015   \n",
       "...          ...         ...         ...          ...           ...   ...   \n",
       "1512    59418.46    48823.53    10354.65       240.28  conventional  2016   \n",
       "1513    63300.70    54704.14     8596.56         0.00  conventional  2016   \n",
       "1514    62415.77    53332.61     8258.16       825.00  conventional  2016   \n",
       "1515    63931.73    55653.47     8278.26         0.00  conventional  2016   \n",
       "1516    69104.56    57456.21    11648.35         0.00  conventional  2016   \n",
       "\n",
       "         region  \n",
       "0        Albany  \n",
       "1        Albany  \n",
       "2        Albany  \n",
       "3        Albany  \n",
       "4        Albany  \n",
       "...         ...  \n",
       "1512  Charlotte  \n",
       "1513  Charlotte  \n",
       "1514  Charlotte  \n",
       "1515  Charlotte  \n",
       "1516  Charlotte  \n",
       "\n",
       "[1517 rows x 13 columns]"
      ]
     },
     "execution_count": 194,
     "metadata": {},
     "output_type": "execute_result"
    }
   ],
   "source": [
    "df"
   ]
  },
  {
   "cell_type": "code",
   "execution_count": 195,
   "metadata": {},
   "outputs": [],
   "source": [
    "df['Date']=pd.to_datetime(df['Date'])\n",
    "df['Month']=df['Date'].apply(lambda x:x.month)\n",
    "df['Day']=df['Date'].apply(lambda x:x.day)"
   ]
  },
  {
   "cell_type": "code",
   "execution_count": 196,
   "metadata": {},
   "outputs": [
    {
     "data": {
      "text/html": [
       "<div>\n",
       "<style scoped>\n",
       "    .dataframe tbody tr th:only-of-type {\n",
       "        vertical-align: middle;\n",
       "    }\n",
       "\n",
       "    .dataframe tbody tr th {\n",
       "        vertical-align: top;\n",
       "    }\n",
       "\n",
       "    .dataframe thead th {\n",
       "        text-align: right;\n",
       "    }\n",
       "</style>\n",
       "<table border=\"1\" class=\"dataframe\">\n",
       "  <thead>\n",
       "    <tr style=\"text-align: right;\">\n",
       "      <th></th>\n",
       "      <th>Date</th>\n",
       "      <th>AveragePrice</th>\n",
       "      <th>Total Volume</th>\n",
       "      <th>4046</th>\n",
       "      <th>4225</th>\n",
       "      <th>4770</th>\n",
       "      <th>Total Bags</th>\n",
       "      <th>Small Bags</th>\n",
       "      <th>Large Bags</th>\n",
       "      <th>XLarge Bags</th>\n",
       "      <th>type</th>\n",
       "      <th>year</th>\n",
       "      <th>region</th>\n",
       "      <th>Month</th>\n",
       "      <th>Day</th>\n",
       "    </tr>\n",
       "  </thead>\n",
       "  <tbody>\n",
       "    <tr>\n",
       "      <th>0</th>\n",
       "      <td>2015-12-27</td>\n",
       "      <td>1.33</td>\n",
       "      <td>64236.62</td>\n",
       "      <td>1036.74</td>\n",
       "      <td>54454.85</td>\n",
       "      <td>48.16</td>\n",
       "      <td>8696.87</td>\n",
       "      <td>8603.62</td>\n",
       "      <td>93.25</td>\n",
       "      <td>0.00</td>\n",
       "      <td>conventional</td>\n",
       "      <td>2015</td>\n",
       "      <td>Albany</td>\n",
       "      <td>12</td>\n",
       "      <td>27</td>\n",
       "    </tr>\n",
       "    <tr>\n",
       "      <th>1</th>\n",
       "      <td>2015-12-20</td>\n",
       "      <td>1.35</td>\n",
       "      <td>54876.98</td>\n",
       "      <td>674.28</td>\n",
       "      <td>44638.81</td>\n",
       "      <td>58.33</td>\n",
       "      <td>9505.56</td>\n",
       "      <td>9408.07</td>\n",
       "      <td>97.49</td>\n",
       "      <td>0.00</td>\n",
       "      <td>conventional</td>\n",
       "      <td>2015</td>\n",
       "      <td>Albany</td>\n",
       "      <td>12</td>\n",
       "      <td>20</td>\n",
       "    </tr>\n",
       "    <tr>\n",
       "      <th>2</th>\n",
       "      <td>2015-12-13</td>\n",
       "      <td>0.93</td>\n",
       "      <td>118220.22</td>\n",
       "      <td>794.70</td>\n",
       "      <td>109149.67</td>\n",
       "      <td>130.50</td>\n",
       "      <td>8145.35</td>\n",
       "      <td>8042.21</td>\n",
       "      <td>103.14</td>\n",
       "      <td>0.00</td>\n",
       "      <td>conventional</td>\n",
       "      <td>2015</td>\n",
       "      <td>Albany</td>\n",
       "      <td>12</td>\n",
       "      <td>13</td>\n",
       "    </tr>\n",
       "    <tr>\n",
       "      <th>3</th>\n",
       "      <td>2015-06-12</td>\n",
       "      <td>1.08</td>\n",
       "      <td>78992.15</td>\n",
       "      <td>1132.00</td>\n",
       "      <td>71976.41</td>\n",
       "      <td>72.58</td>\n",
       "      <td>5811.16</td>\n",
       "      <td>5677.40</td>\n",
       "      <td>133.76</td>\n",
       "      <td>0.00</td>\n",
       "      <td>conventional</td>\n",
       "      <td>2015</td>\n",
       "      <td>Albany</td>\n",
       "      <td>6</td>\n",
       "      <td>12</td>\n",
       "    </tr>\n",
       "    <tr>\n",
       "      <th>4</th>\n",
       "      <td>2015-11-29</td>\n",
       "      <td>1.28</td>\n",
       "      <td>51039.60</td>\n",
       "      <td>941.48</td>\n",
       "      <td>43838.39</td>\n",
       "      <td>75.78</td>\n",
       "      <td>6183.95</td>\n",
       "      <td>5986.26</td>\n",
       "      <td>197.69</td>\n",
       "      <td>0.00</td>\n",
       "      <td>conventional</td>\n",
       "      <td>2015</td>\n",
       "      <td>Albany</td>\n",
       "      <td>11</td>\n",
       "      <td>29</td>\n",
       "    </tr>\n",
       "    <tr>\n",
       "      <th>...</th>\n",
       "      <td>...</td>\n",
       "      <td>...</td>\n",
       "      <td>...</td>\n",
       "      <td>...</td>\n",
       "      <td>...</td>\n",
       "      <td>...</td>\n",
       "      <td>...</td>\n",
       "      <td>...</td>\n",
       "      <td>...</td>\n",
       "      <td>...</td>\n",
       "      <td>...</td>\n",
       "      <td>...</td>\n",
       "      <td>...</td>\n",
       "      <td>...</td>\n",
       "      <td>...</td>\n",
       "    </tr>\n",
       "    <tr>\n",
       "      <th>1512</th>\n",
       "      <td>2016-10-16</td>\n",
       "      <td>1.39</td>\n",
       "      <td>190846.01</td>\n",
       "      <td>57529.11</td>\n",
       "      <td>56366.66</td>\n",
       "      <td>17531.78</td>\n",
       "      <td>59418.46</td>\n",
       "      <td>48823.53</td>\n",
       "      <td>10354.65</td>\n",
       "      <td>240.28</td>\n",
       "      <td>conventional</td>\n",
       "      <td>2016</td>\n",
       "      <td>Charlotte</td>\n",
       "      <td>10</td>\n",
       "      <td>16</td>\n",
       "    </tr>\n",
       "    <tr>\n",
       "      <th>1513</th>\n",
       "      <td>2016-09-10</td>\n",
       "      <td>1.51</td>\n",
       "      <td>178235.75</td>\n",
       "      <td>43325.87</td>\n",
       "      <td>52189.61</td>\n",
       "      <td>19419.57</td>\n",
       "      <td>63300.70</td>\n",
       "      <td>54704.14</td>\n",
       "      <td>8596.56</td>\n",
       "      <td>0.00</td>\n",
       "      <td>conventional</td>\n",
       "      <td>2016</td>\n",
       "      <td>Charlotte</td>\n",
       "      <td>9</td>\n",
       "      <td>10</td>\n",
       "    </tr>\n",
       "    <tr>\n",
       "      <th>1514</th>\n",
       "      <td>2016-02-10</td>\n",
       "      <td>1.48</td>\n",
       "      <td>178410.82</td>\n",
       "      <td>46364.75</td>\n",
       "      <td>52893.38</td>\n",
       "      <td>16736.92</td>\n",
       "      <td>62415.77</td>\n",
       "      <td>53332.61</td>\n",
       "      <td>8258.16</td>\n",
       "      <td>825.00</td>\n",
       "      <td>conventional</td>\n",
       "      <td>2016</td>\n",
       "      <td>Charlotte</td>\n",
       "      <td>2</td>\n",
       "      <td>10</td>\n",
       "    </tr>\n",
       "    <tr>\n",
       "      <th>1515</th>\n",
       "      <td>2016-09-25</td>\n",
       "      <td>1.47</td>\n",
       "      <td>189131.52</td>\n",
       "      <td>54110.79</td>\n",
       "      <td>53593.58</td>\n",
       "      <td>17495.42</td>\n",
       "      <td>63931.73</td>\n",
       "      <td>55653.47</td>\n",
       "      <td>8278.26</td>\n",
       "      <td>0.00</td>\n",
       "      <td>conventional</td>\n",
       "      <td>2016</td>\n",
       "      <td>Charlotte</td>\n",
       "      <td>9</td>\n",
       "      <td>25</td>\n",
       "    </tr>\n",
       "    <tr>\n",
       "      <th>1516</th>\n",
       "      <td>2016-09-18</td>\n",
       "      <td>1.43</td>\n",
       "      <td>182978.30</td>\n",
       "      <td>43116.41</td>\n",
       "      <td>54193.42</td>\n",
       "      <td>16563.91</td>\n",
       "      <td>69104.56</td>\n",
       "      <td>57456.21</td>\n",
       "      <td>11648.35</td>\n",
       "      <td>0.00</td>\n",
       "      <td>conventional</td>\n",
       "      <td>2016</td>\n",
       "      <td>Charlotte</td>\n",
       "      <td>9</td>\n",
       "      <td>18</td>\n",
       "    </tr>\n",
       "  </tbody>\n",
       "</table>\n",
       "<p>1517 rows × 15 columns</p>\n",
       "</div>"
      ],
      "text/plain": [
       "           Date  AveragePrice  Total Volume      4046       4225      4770  \\\n",
       "0    2015-12-27          1.33      64236.62   1036.74   54454.85     48.16   \n",
       "1    2015-12-20          1.35      54876.98    674.28   44638.81     58.33   \n",
       "2    2015-12-13          0.93     118220.22    794.70  109149.67    130.50   \n",
       "3    2015-06-12          1.08      78992.15   1132.00   71976.41     72.58   \n",
       "4    2015-11-29          1.28      51039.60    941.48   43838.39     75.78   \n",
       "...         ...           ...           ...       ...        ...       ...   \n",
       "1512 2016-10-16          1.39     190846.01  57529.11   56366.66  17531.78   \n",
       "1513 2016-09-10          1.51     178235.75  43325.87   52189.61  19419.57   \n",
       "1514 2016-02-10          1.48     178410.82  46364.75   52893.38  16736.92   \n",
       "1515 2016-09-25          1.47     189131.52  54110.79   53593.58  17495.42   \n",
       "1516 2016-09-18          1.43     182978.30  43116.41   54193.42  16563.91   \n",
       "\n",
       "      Total Bags  Small Bags  Large Bags  XLarge Bags          type  year  \\\n",
       "0        8696.87     8603.62       93.25         0.00  conventional  2015   \n",
       "1        9505.56     9408.07       97.49         0.00  conventional  2015   \n",
       "2        8145.35     8042.21      103.14         0.00  conventional  2015   \n",
       "3        5811.16     5677.40      133.76         0.00  conventional  2015   \n",
       "4        6183.95     5986.26      197.69         0.00  conventional  2015   \n",
       "...          ...         ...         ...          ...           ...   ...   \n",
       "1512    59418.46    48823.53    10354.65       240.28  conventional  2016   \n",
       "1513    63300.70    54704.14     8596.56         0.00  conventional  2016   \n",
       "1514    62415.77    53332.61     8258.16       825.00  conventional  2016   \n",
       "1515    63931.73    55653.47     8278.26         0.00  conventional  2016   \n",
       "1516    69104.56    57456.21    11648.35         0.00  conventional  2016   \n",
       "\n",
       "         region  Month  Day  \n",
       "0        Albany     12   27  \n",
       "1        Albany     12   20  \n",
       "2        Albany     12   13  \n",
       "3        Albany      6   12  \n",
       "4        Albany     11   29  \n",
       "...         ...    ...  ...  \n",
       "1512  Charlotte     10   16  \n",
       "1513  Charlotte      9   10  \n",
       "1514  Charlotte      2   10  \n",
       "1515  Charlotte      9   25  \n",
       "1516  Charlotte      9   18  \n",
       "\n",
       "[1517 rows x 15 columns]"
      ]
     },
     "execution_count": 196,
     "metadata": {},
     "output_type": "execute_result"
    }
   ],
   "source": [
    "df"
   ]
  },
  {
   "cell_type": "code",
   "execution_count": 197,
   "metadata": {},
   "outputs": [
    {
     "data": {
      "text/html": [
       "<div>\n",
       "<style scoped>\n",
       "    .dataframe tbody tr th:only-of-type {\n",
       "        vertical-align: middle;\n",
       "    }\n",
       "\n",
       "    .dataframe tbody tr th {\n",
       "        vertical-align: top;\n",
       "    }\n",
       "\n",
       "    .dataframe thead th {\n",
       "        text-align: right;\n",
       "    }\n",
       "</style>\n",
       "<table border=\"1\" class=\"dataframe\">\n",
       "  <thead>\n",
       "    <tr style=\"text-align: right;\">\n",
       "      <th></th>\n",
       "      <th>Date</th>\n",
       "      <th>AveragePrice</th>\n",
       "      <th>Total Volume</th>\n",
       "      <th>4046</th>\n",
       "      <th>4225</th>\n",
       "      <th>4770</th>\n",
       "      <th>Total Bags</th>\n",
       "      <th>Small Bags</th>\n",
       "      <th>Large Bags</th>\n",
       "      <th>XLarge Bags</th>\n",
       "      <th>type</th>\n",
       "      <th>year</th>\n",
       "      <th>region</th>\n",
       "      <th>Month</th>\n",
       "      <th>Day</th>\n",
       "    </tr>\n",
       "  </thead>\n",
       "  <tbody>\n",
       "    <tr>\n",
       "      <th>0</th>\n",
       "      <td>2015-12-27</td>\n",
       "      <td>1.33</td>\n",
       "      <td>64236.62</td>\n",
       "      <td>1036.74</td>\n",
       "      <td>54454.85</td>\n",
       "      <td>48.16</td>\n",
       "      <td>8696.87</td>\n",
       "      <td>8603.62</td>\n",
       "      <td>93.25</td>\n",
       "      <td>0.00</td>\n",
       "      <td>0</td>\n",
       "      <td>2015</td>\n",
       "      <td>0</td>\n",
       "      <td>12</td>\n",
       "      <td>27</td>\n",
       "    </tr>\n",
       "    <tr>\n",
       "      <th>1</th>\n",
       "      <td>2015-12-20</td>\n",
       "      <td>1.35</td>\n",
       "      <td>54876.98</td>\n",
       "      <td>674.28</td>\n",
       "      <td>44638.81</td>\n",
       "      <td>58.33</td>\n",
       "      <td>9505.56</td>\n",
       "      <td>9408.07</td>\n",
       "      <td>97.49</td>\n",
       "      <td>0.00</td>\n",
       "      <td>0</td>\n",
       "      <td>2015</td>\n",
       "      <td>0</td>\n",
       "      <td>12</td>\n",
       "      <td>20</td>\n",
       "    </tr>\n",
       "    <tr>\n",
       "      <th>2</th>\n",
       "      <td>2015-12-13</td>\n",
       "      <td>0.93</td>\n",
       "      <td>118220.22</td>\n",
       "      <td>794.70</td>\n",
       "      <td>109149.67</td>\n",
       "      <td>130.50</td>\n",
       "      <td>8145.35</td>\n",
       "      <td>8042.21</td>\n",
       "      <td>103.14</td>\n",
       "      <td>0.00</td>\n",
       "      <td>0</td>\n",
       "      <td>2015</td>\n",
       "      <td>0</td>\n",
       "      <td>12</td>\n",
       "      <td>13</td>\n",
       "    </tr>\n",
       "    <tr>\n",
       "      <th>3</th>\n",
       "      <td>2015-06-12</td>\n",
       "      <td>1.08</td>\n",
       "      <td>78992.15</td>\n",
       "      <td>1132.00</td>\n",
       "      <td>71976.41</td>\n",
       "      <td>72.58</td>\n",
       "      <td>5811.16</td>\n",
       "      <td>5677.40</td>\n",
       "      <td>133.76</td>\n",
       "      <td>0.00</td>\n",
       "      <td>0</td>\n",
       "      <td>2015</td>\n",
       "      <td>0</td>\n",
       "      <td>6</td>\n",
       "      <td>12</td>\n",
       "    </tr>\n",
       "    <tr>\n",
       "      <th>4</th>\n",
       "      <td>2015-11-29</td>\n",
       "      <td>1.28</td>\n",
       "      <td>51039.60</td>\n",
       "      <td>941.48</td>\n",
       "      <td>43838.39</td>\n",
       "      <td>75.78</td>\n",
       "      <td>6183.95</td>\n",
       "      <td>5986.26</td>\n",
       "      <td>197.69</td>\n",
       "      <td>0.00</td>\n",
       "      <td>0</td>\n",
       "      <td>2015</td>\n",
       "      <td>0</td>\n",
       "      <td>11</td>\n",
       "      <td>29</td>\n",
       "    </tr>\n",
       "    <tr>\n",
       "      <th>...</th>\n",
       "      <td>...</td>\n",
       "      <td>...</td>\n",
       "      <td>...</td>\n",
       "      <td>...</td>\n",
       "      <td>...</td>\n",
       "      <td>...</td>\n",
       "      <td>...</td>\n",
       "      <td>...</td>\n",
       "      <td>...</td>\n",
       "      <td>...</td>\n",
       "      <td>...</td>\n",
       "      <td>...</td>\n",
       "      <td>...</td>\n",
       "      <td>...</td>\n",
       "      <td>...</td>\n",
       "    </tr>\n",
       "    <tr>\n",
       "      <th>1512</th>\n",
       "      <td>2016-10-16</td>\n",
       "      <td>1.39</td>\n",
       "      <td>190846.01</td>\n",
       "      <td>57529.11</td>\n",
       "      <td>56366.66</td>\n",
       "      <td>17531.78</td>\n",
       "      <td>59418.46</td>\n",
       "      <td>48823.53</td>\n",
       "      <td>10354.65</td>\n",
       "      <td>240.28</td>\n",
       "      <td>0</td>\n",
       "      <td>2016</td>\n",
       "      <td>7</td>\n",
       "      <td>10</td>\n",
       "      <td>16</td>\n",
       "    </tr>\n",
       "    <tr>\n",
       "      <th>1513</th>\n",
       "      <td>2016-09-10</td>\n",
       "      <td>1.51</td>\n",
       "      <td>178235.75</td>\n",
       "      <td>43325.87</td>\n",
       "      <td>52189.61</td>\n",
       "      <td>19419.57</td>\n",
       "      <td>63300.70</td>\n",
       "      <td>54704.14</td>\n",
       "      <td>8596.56</td>\n",
       "      <td>0.00</td>\n",
       "      <td>0</td>\n",
       "      <td>2016</td>\n",
       "      <td>7</td>\n",
       "      <td>9</td>\n",
       "      <td>10</td>\n",
       "    </tr>\n",
       "    <tr>\n",
       "      <th>1514</th>\n",
       "      <td>2016-02-10</td>\n",
       "      <td>1.48</td>\n",
       "      <td>178410.82</td>\n",
       "      <td>46364.75</td>\n",
       "      <td>52893.38</td>\n",
       "      <td>16736.92</td>\n",
       "      <td>62415.77</td>\n",
       "      <td>53332.61</td>\n",
       "      <td>8258.16</td>\n",
       "      <td>825.00</td>\n",
       "      <td>0</td>\n",
       "      <td>2016</td>\n",
       "      <td>7</td>\n",
       "      <td>2</td>\n",
       "      <td>10</td>\n",
       "    </tr>\n",
       "    <tr>\n",
       "      <th>1515</th>\n",
       "      <td>2016-09-25</td>\n",
       "      <td>1.47</td>\n",
       "      <td>189131.52</td>\n",
       "      <td>54110.79</td>\n",
       "      <td>53593.58</td>\n",
       "      <td>17495.42</td>\n",
       "      <td>63931.73</td>\n",
       "      <td>55653.47</td>\n",
       "      <td>8278.26</td>\n",
       "      <td>0.00</td>\n",
       "      <td>0</td>\n",
       "      <td>2016</td>\n",
       "      <td>7</td>\n",
       "      <td>9</td>\n",
       "      <td>25</td>\n",
       "    </tr>\n",
       "    <tr>\n",
       "      <th>1516</th>\n",
       "      <td>2016-09-18</td>\n",
       "      <td>1.43</td>\n",
       "      <td>182978.30</td>\n",
       "      <td>43116.41</td>\n",
       "      <td>54193.42</td>\n",
       "      <td>16563.91</td>\n",
       "      <td>69104.56</td>\n",
       "      <td>57456.21</td>\n",
       "      <td>11648.35</td>\n",
       "      <td>0.00</td>\n",
       "      <td>0</td>\n",
       "      <td>2016</td>\n",
       "      <td>7</td>\n",
       "      <td>9</td>\n",
       "      <td>18</td>\n",
       "    </tr>\n",
       "  </tbody>\n",
       "</table>\n",
       "<p>1517 rows × 15 columns</p>\n",
       "</div>"
      ],
      "text/plain": [
       "           Date  AveragePrice  Total Volume      4046       4225      4770  \\\n",
       "0    2015-12-27          1.33      64236.62   1036.74   54454.85     48.16   \n",
       "1    2015-12-20          1.35      54876.98    674.28   44638.81     58.33   \n",
       "2    2015-12-13          0.93     118220.22    794.70  109149.67    130.50   \n",
       "3    2015-06-12          1.08      78992.15   1132.00   71976.41     72.58   \n",
       "4    2015-11-29          1.28      51039.60    941.48   43838.39     75.78   \n",
       "...         ...           ...           ...       ...        ...       ...   \n",
       "1512 2016-10-16          1.39     190846.01  57529.11   56366.66  17531.78   \n",
       "1513 2016-09-10          1.51     178235.75  43325.87   52189.61  19419.57   \n",
       "1514 2016-02-10          1.48     178410.82  46364.75   52893.38  16736.92   \n",
       "1515 2016-09-25          1.47     189131.52  54110.79   53593.58  17495.42   \n",
       "1516 2016-09-18          1.43     182978.30  43116.41   54193.42  16563.91   \n",
       "\n",
       "      Total Bags  Small Bags  Large Bags  XLarge Bags  type  year  region  \\\n",
       "0        8696.87     8603.62       93.25         0.00     0  2015       0   \n",
       "1        9505.56     9408.07       97.49         0.00     0  2015       0   \n",
       "2        8145.35     8042.21      103.14         0.00     0  2015       0   \n",
       "3        5811.16     5677.40      133.76         0.00     0  2015       0   \n",
       "4        6183.95     5986.26      197.69         0.00     0  2015       0   \n",
       "...          ...         ...         ...          ...   ...   ...     ...   \n",
       "1512    59418.46    48823.53    10354.65       240.28     0  2016       7   \n",
       "1513    63300.70    54704.14     8596.56         0.00     0  2016       7   \n",
       "1514    62415.77    53332.61     8258.16       825.00     0  2016       7   \n",
       "1515    63931.73    55653.47     8278.26         0.00     0  2016       7   \n",
       "1516    69104.56    57456.21    11648.35         0.00     0  2016       7   \n",
       "\n",
       "      Month  Day  \n",
       "0        12   27  \n",
       "1        12   20  \n",
       "2        12   13  \n",
       "3         6   12  \n",
       "4        11   29  \n",
       "...     ...  ...  \n",
       "1512     10   16  \n",
       "1513      9   10  \n",
       "1514      2   10  \n",
       "1515      9   25  \n",
       "1516      9   18  \n",
       "\n",
       "[1517 rows x 15 columns]"
      ]
     },
     "execution_count": 197,
     "metadata": {},
     "output_type": "execute_result"
    }
   ],
   "source": [
    "from sklearn.preprocessing import LabelEncoder          \n",
    "lb=LabelEncoder()\n",
    "df['type']=pd.DataFrame(lb.fit_transform(df['type']))\n",
    "df['region']=pd.DataFrame(lb.fit_transform(df['region'])) \n",
    "df"
   ]
  },
  {
   "cell_type": "code",
   "execution_count": 198,
   "metadata": {},
   "outputs": [
    {
     "data": {
      "text/html": [
       "<div>\n",
       "<style scoped>\n",
       "    .dataframe tbody tr th:only-of-type {\n",
       "        vertical-align: middle;\n",
       "    }\n",
       "\n",
       "    .dataframe tbody tr th {\n",
       "        vertical-align: top;\n",
       "    }\n",
       "\n",
       "    .dataframe thead th {\n",
       "        text-align: right;\n",
       "    }\n",
       "</style>\n",
       "<table border=\"1\" class=\"dataframe\">\n",
       "  <thead>\n",
       "    <tr style=\"text-align: right;\">\n",
       "      <th></th>\n",
       "      <th>AveragePrice</th>\n",
       "      <th>Total Volume</th>\n",
       "      <th>4046</th>\n",
       "      <th>4225</th>\n",
       "      <th>4770</th>\n",
       "      <th>Total Bags</th>\n",
       "      <th>Small Bags</th>\n",
       "      <th>Large Bags</th>\n",
       "      <th>XLarge Bags</th>\n",
       "      <th>type</th>\n",
       "      <th>year</th>\n",
       "      <th>region</th>\n",
       "      <th>Month</th>\n",
       "      <th>Day</th>\n",
       "    </tr>\n",
       "  </thead>\n",
       "  <tbody>\n",
       "    <tr>\n",
       "      <th>0</th>\n",
       "      <td>1.33</td>\n",
       "      <td>64236.62</td>\n",
       "      <td>1036.74</td>\n",
       "      <td>54454.85</td>\n",
       "      <td>48.16</td>\n",
       "      <td>8696.87</td>\n",
       "      <td>8603.62</td>\n",
       "      <td>93.25</td>\n",
       "      <td>0.00</td>\n",
       "      <td>0</td>\n",
       "      <td>2015</td>\n",
       "      <td>0</td>\n",
       "      <td>12</td>\n",
       "      <td>27</td>\n",
       "    </tr>\n",
       "    <tr>\n",
       "      <th>1</th>\n",
       "      <td>1.35</td>\n",
       "      <td>54876.98</td>\n",
       "      <td>674.28</td>\n",
       "      <td>44638.81</td>\n",
       "      <td>58.33</td>\n",
       "      <td>9505.56</td>\n",
       "      <td>9408.07</td>\n",
       "      <td>97.49</td>\n",
       "      <td>0.00</td>\n",
       "      <td>0</td>\n",
       "      <td>2015</td>\n",
       "      <td>0</td>\n",
       "      <td>12</td>\n",
       "      <td>20</td>\n",
       "    </tr>\n",
       "    <tr>\n",
       "      <th>2</th>\n",
       "      <td>0.93</td>\n",
       "      <td>118220.22</td>\n",
       "      <td>794.70</td>\n",
       "      <td>109149.67</td>\n",
       "      <td>130.50</td>\n",
       "      <td>8145.35</td>\n",
       "      <td>8042.21</td>\n",
       "      <td>103.14</td>\n",
       "      <td>0.00</td>\n",
       "      <td>0</td>\n",
       "      <td>2015</td>\n",
       "      <td>0</td>\n",
       "      <td>12</td>\n",
       "      <td>13</td>\n",
       "    </tr>\n",
       "    <tr>\n",
       "      <th>3</th>\n",
       "      <td>1.08</td>\n",
       "      <td>78992.15</td>\n",
       "      <td>1132.00</td>\n",
       "      <td>71976.41</td>\n",
       "      <td>72.58</td>\n",
       "      <td>5811.16</td>\n",
       "      <td>5677.40</td>\n",
       "      <td>133.76</td>\n",
       "      <td>0.00</td>\n",
       "      <td>0</td>\n",
       "      <td>2015</td>\n",
       "      <td>0</td>\n",
       "      <td>6</td>\n",
       "      <td>12</td>\n",
       "    </tr>\n",
       "    <tr>\n",
       "      <th>4</th>\n",
       "      <td>1.28</td>\n",
       "      <td>51039.60</td>\n",
       "      <td>941.48</td>\n",
       "      <td>43838.39</td>\n",
       "      <td>75.78</td>\n",
       "      <td>6183.95</td>\n",
       "      <td>5986.26</td>\n",
       "      <td>197.69</td>\n",
       "      <td>0.00</td>\n",
       "      <td>0</td>\n",
       "      <td>2015</td>\n",
       "      <td>0</td>\n",
       "      <td>11</td>\n",
       "      <td>29</td>\n",
       "    </tr>\n",
       "    <tr>\n",
       "      <th>...</th>\n",
       "      <td>...</td>\n",
       "      <td>...</td>\n",
       "      <td>...</td>\n",
       "      <td>...</td>\n",
       "      <td>...</td>\n",
       "      <td>...</td>\n",
       "      <td>...</td>\n",
       "      <td>...</td>\n",
       "      <td>...</td>\n",
       "      <td>...</td>\n",
       "      <td>...</td>\n",
       "      <td>...</td>\n",
       "      <td>...</td>\n",
       "      <td>...</td>\n",
       "    </tr>\n",
       "    <tr>\n",
       "      <th>1512</th>\n",
       "      <td>1.39</td>\n",
       "      <td>190846.01</td>\n",
       "      <td>57529.11</td>\n",
       "      <td>56366.66</td>\n",
       "      <td>17531.78</td>\n",
       "      <td>59418.46</td>\n",
       "      <td>48823.53</td>\n",
       "      <td>10354.65</td>\n",
       "      <td>240.28</td>\n",
       "      <td>0</td>\n",
       "      <td>2016</td>\n",
       "      <td>7</td>\n",
       "      <td>10</td>\n",
       "      <td>16</td>\n",
       "    </tr>\n",
       "    <tr>\n",
       "      <th>1513</th>\n",
       "      <td>1.51</td>\n",
       "      <td>178235.75</td>\n",
       "      <td>43325.87</td>\n",
       "      <td>52189.61</td>\n",
       "      <td>19419.57</td>\n",
       "      <td>63300.70</td>\n",
       "      <td>54704.14</td>\n",
       "      <td>8596.56</td>\n",
       "      <td>0.00</td>\n",
       "      <td>0</td>\n",
       "      <td>2016</td>\n",
       "      <td>7</td>\n",
       "      <td>9</td>\n",
       "      <td>10</td>\n",
       "    </tr>\n",
       "    <tr>\n",
       "      <th>1514</th>\n",
       "      <td>1.48</td>\n",
       "      <td>178410.82</td>\n",
       "      <td>46364.75</td>\n",
       "      <td>52893.38</td>\n",
       "      <td>16736.92</td>\n",
       "      <td>62415.77</td>\n",
       "      <td>53332.61</td>\n",
       "      <td>8258.16</td>\n",
       "      <td>825.00</td>\n",
       "      <td>0</td>\n",
       "      <td>2016</td>\n",
       "      <td>7</td>\n",
       "      <td>2</td>\n",
       "      <td>10</td>\n",
       "    </tr>\n",
       "    <tr>\n",
       "      <th>1515</th>\n",
       "      <td>1.47</td>\n",
       "      <td>189131.52</td>\n",
       "      <td>54110.79</td>\n",
       "      <td>53593.58</td>\n",
       "      <td>17495.42</td>\n",
       "      <td>63931.73</td>\n",
       "      <td>55653.47</td>\n",
       "      <td>8278.26</td>\n",
       "      <td>0.00</td>\n",
       "      <td>0</td>\n",
       "      <td>2016</td>\n",
       "      <td>7</td>\n",
       "      <td>9</td>\n",
       "      <td>25</td>\n",
       "    </tr>\n",
       "    <tr>\n",
       "      <th>1516</th>\n",
       "      <td>1.43</td>\n",
       "      <td>182978.30</td>\n",
       "      <td>43116.41</td>\n",
       "      <td>54193.42</td>\n",
       "      <td>16563.91</td>\n",
       "      <td>69104.56</td>\n",
       "      <td>57456.21</td>\n",
       "      <td>11648.35</td>\n",
       "      <td>0.00</td>\n",
       "      <td>0</td>\n",
       "      <td>2016</td>\n",
       "      <td>7</td>\n",
       "      <td>9</td>\n",
       "      <td>18</td>\n",
       "    </tr>\n",
       "  </tbody>\n",
       "</table>\n",
       "<p>1517 rows × 14 columns</p>\n",
       "</div>"
      ],
      "text/plain": [
       "      AveragePrice  Total Volume      4046       4225      4770  Total Bags  \\\n",
       "0             1.33      64236.62   1036.74   54454.85     48.16     8696.87   \n",
       "1             1.35      54876.98    674.28   44638.81     58.33     9505.56   \n",
       "2             0.93     118220.22    794.70  109149.67    130.50     8145.35   \n",
       "3             1.08      78992.15   1132.00   71976.41     72.58     5811.16   \n",
       "4             1.28      51039.60    941.48   43838.39     75.78     6183.95   \n",
       "...            ...           ...       ...        ...       ...         ...   \n",
       "1512          1.39     190846.01  57529.11   56366.66  17531.78    59418.46   \n",
       "1513          1.51     178235.75  43325.87   52189.61  19419.57    63300.70   \n",
       "1514          1.48     178410.82  46364.75   52893.38  16736.92    62415.77   \n",
       "1515          1.47     189131.52  54110.79   53593.58  17495.42    63931.73   \n",
       "1516          1.43     182978.30  43116.41   54193.42  16563.91    69104.56   \n",
       "\n",
       "      Small Bags  Large Bags  XLarge Bags  type  year  region  Month  Day  \n",
       "0        8603.62       93.25         0.00     0  2015       0     12   27  \n",
       "1        9408.07       97.49         0.00     0  2015       0     12   20  \n",
       "2        8042.21      103.14         0.00     0  2015       0     12   13  \n",
       "3        5677.40      133.76         0.00     0  2015       0      6   12  \n",
       "4        5986.26      197.69         0.00     0  2015       0     11   29  \n",
       "...          ...         ...          ...   ...   ...     ...    ...  ...  \n",
       "1512    48823.53    10354.65       240.28     0  2016       7     10   16  \n",
       "1513    54704.14     8596.56         0.00     0  2016       7      9   10  \n",
       "1514    53332.61     8258.16       825.00     0  2016       7      2   10  \n",
       "1515    55653.47     8278.26         0.00     0  2016       7      9   25  \n",
       "1516    57456.21    11648.35         0.00     0  2016       7      9   18  \n",
       "\n",
       "[1517 rows x 14 columns]"
      ]
     },
     "execution_count": 198,
     "metadata": {},
     "output_type": "execute_result"
    }
   ],
   "source": [
    "df1=df.drop('Date',axis=1)\n",
    "df1"
   ]
  },
  {
   "cell_type": "code",
   "execution_count": 199,
   "metadata": {},
   "outputs": [
    {
     "data": {
      "text/plain": [
       "AveragePrice   -0.109444\n",
       "Total Volume    6.200138\n",
       "4046            6.051830\n",
       "4225            6.394926\n",
       "4770            5.405164\n",
       "Total Bags      5.366378\n",
       "Small Bags      5.355185\n",
       "Large Bags      5.144495\n",
       "XLarge Bags     5.775077\n",
       "type            0.000000\n",
       "year            1.828332\n",
       "region          0.288146\n",
       "Month           0.101439\n",
       "Day             0.041303\n",
       "dtype: float64"
      ]
     },
     "execution_count": 199,
     "metadata": {},
     "output_type": "execute_result"
    }
   ],
   "source": [
    "df1.skew()"
   ]
  },
  {
   "cell_type": "code",
   "execution_count": 200,
   "metadata": {},
   "outputs": [],
   "source": [
    "import numpy as np                                            # Removing Skewness \n",
    "for col in df1.columns:\n",
    "    if df1.skew().loc[col]>0.55:\n",
    "        df1[col]=np.log1p(df1[col])"
   ]
  },
  {
   "cell_type": "code",
   "execution_count": 201,
   "metadata": {},
   "outputs": [
    {
     "data": {
      "text/plain": [
       "AveragePrice   -0.109444\n",
       "Total Volume    0.667468\n",
       "4046           -0.160268\n",
       "4225            0.184436\n",
       "4770           -0.355508\n",
       "Total Bags      0.695502\n",
       "Small Bags      0.713843\n",
       "Large Bags     -0.912766\n",
       "XLarge Bags     0.783913\n",
       "type            0.000000\n",
       "year            1.828332\n",
       "region          0.288146\n",
       "Month           0.101439\n",
       "Day             0.041303\n",
       "dtype: float64"
      ]
     },
     "execution_count": 201,
     "metadata": {},
     "output_type": "execute_result"
    }
   ],
   "source": [
    "df1.skew()"
   ]
  },
  {
   "cell_type": "code",
   "execution_count": 202,
   "metadata": {},
   "outputs": [],
   "source": [
    "import numpy as np                                            # Removing Skewness little further\n",
    "for col in df1.columns:\n",
    "    if df1.skew().loc[col]>0.55:\n",
    "        df1[col]=np.log1p(np.log1p(df1[col]))"
   ]
  },
  {
   "cell_type": "code",
   "execution_count": 203,
   "metadata": {},
   "outputs": [
    {
     "data": {
      "text/plain": [
       "AveragePrice   -0.109444\n",
       "Total Volume    0.383704\n",
       "4046           -0.160268\n",
       "4225            0.184436\n",
       "4770           -0.355508\n",
       "Total Bags      0.274385\n",
       "Small Bags      0.323187\n",
       "Large Bags     -0.912766\n",
       "XLarge Bags     0.227093\n",
       "type            0.000000\n",
       "year            1.828332\n",
       "region          0.288146\n",
       "Month           0.101439\n",
       "Day             0.041303\n",
       "dtype: float64"
      ]
     },
     "execution_count": 203,
     "metadata": {},
     "output_type": "execute_result"
    }
   ],
   "source": [
    "df1.skew()"
   ]
  },
  {
   "cell_type": "code",
   "execution_count": 204,
   "metadata": {},
   "outputs": [
    {
     "data": {
      "text/html": [
       "<div>\n",
       "<style scoped>\n",
       "    .dataframe tbody tr th:only-of-type {\n",
       "        vertical-align: middle;\n",
       "    }\n",
       "\n",
       "    .dataframe tbody tr th {\n",
       "        vertical-align: top;\n",
       "    }\n",
       "\n",
       "    .dataframe thead th {\n",
       "        text-align: right;\n",
       "    }\n",
       "</style>\n",
       "<table border=\"1\" class=\"dataframe\">\n",
       "  <thead>\n",
       "    <tr style=\"text-align: right;\">\n",
       "      <th></th>\n",
       "      <th>AveragePrice</th>\n",
       "      <th>Total Volume</th>\n",
       "      <th>4046</th>\n",
       "      <th>4225</th>\n",
       "      <th>4770</th>\n",
       "      <th>Total Bags</th>\n",
       "      <th>Small Bags</th>\n",
       "      <th>Large Bags</th>\n",
       "      <th>XLarge Bags</th>\n",
       "      <th>type</th>\n",
       "      <th>year</th>\n",
       "      <th>region</th>\n",
       "      <th>Month</th>\n",
       "      <th>Day</th>\n",
       "    </tr>\n",
       "  </thead>\n",
       "  <tbody>\n",
       "    <tr>\n",
       "      <th>0</th>\n",
       "      <td>1.33</td>\n",
       "      <td>1.250117</td>\n",
       "      <td>6.944801</td>\n",
       "      <td>10.905146</td>\n",
       "      <td>3.895080</td>\n",
       "      <td>1.196840</td>\n",
       "      <td>1.196517</td>\n",
       "      <td>4.545951</td>\n",
       "      <td>0.000000</td>\n",
       "      <td>0</td>\n",
       "      <td>1.148289</td>\n",
       "      <td>0</td>\n",
       "      <td>12</td>\n",
       "      <td>27</td>\n",
       "    </tr>\n",
       "    <tr>\n",
       "      <th>1</th>\n",
       "      <td>1.35</td>\n",
       "      <td>1.246348</td>\n",
       "      <td>6.515127</td>\n",
       "      <td>10.706381</td>\n",
       "      <td>4.083115</td>\n",
       "      <td>1.199493</td>\n",
       "      <td>1.199187</td>\n",
       "      <td>4.589955</td>\n",
       "      <td>0.000000</td>\n",
       "      <td>0</td>\n",
       "      <td>1.148289</td>\n",
       "      <td>0</td>\n",
       "      <td>12</td>\n",
       "      <td>20</td>\n",
       "    </tr>\n",
       "    <tr>\n",
       "      <th>2</th>\n",
       "      <td>0.93</td>\n",
       "      <td>1.264141</td>\n",
       "      <td>6.679222</td>\n",
       "      <td>11.600485</td>\n",
       "      <td>4.879007</td>\n",
       "      <td>1.194867</td>\n",
       "      <td>1.194481</td>\n",
       "      <td>4.645736</td>\n",
       "      <td>0.000000</td>\n",
       "      <td>0</td>\n",
       "      <td>1.148289</td>\n",
       "      <td>0</td>\n",
       "      <td>12</td>\n",
       "      <td>13</td>\n",
       "    </tr>\n",
       "    <tr>\n",
       "      <th>3</th>\n",
       "      <td>1.08</td>\n",
       "      <td>1.254971</td>\n",
       "      <td>7.032624</td>\n",
       "      <td>11.184108</td>\n",
       "      <td>4.298373</td>\n",
       "      <td>1.184420</td>\n",
       "      <td>1.183682</td>\n",
       "      <td>4.903495</td>\n",
       "      <td>0.000000</td>\n",
       "      <td>0</td>\n",
       "      <td>1.148289</td>\n",
       "      <td>0</td>\n",
       "      <td>6</td>\n",
       "      <td>12</td>\n",
       "    </tr>\n",
       "    <tr>\n",
       "      <th>4</th>\n",
       "      <td>1.28</td>\n",
       "      <td>1.244591</td>\n",
       "      <td>6.848515</td>\n",
       "      <td>10.688288</td>\n",
       "      <td>4.340944</td>\n",
       "      <td>1.186379</td>\n",
       "      <td>1.185358</td>\n",
       "      <td>5.291746</td>\n",
       "      <td>0.000000</td>\n",
       "      <td>0</td>\n",
       "      <td>1.148289</td>\n",
       "      <td>0</td>\n",
       "      <td>11</td>\n",
       "      <td>29</td>\n",
       "    </tr>\n",
       "    <tr>\n",
       "      <th>...</th>\n",
       "      <td>...</td>\n",
       "      <td>...</td>\n",
       "      <td>...</td>\n",
       "      <td>...</td>\n",
       "      <td>...</td>\n",
       "      <td>...</td>\n",
       "      <td>...</td>\n",
       "      <td>...</td>\n",
       "      <td>...</td>\n",
       "      <td>...</td>\n",
       "      <td>...</td>\n",
       "      <td>...</td>\n",
       "      <td>...</td>\n",
       "      <td>...</td>\n",
       "    </tr>\n",
       "    <tr>\n",
       "      <th>1512</th>\n",
       "      <td>1.39</td>\n",
       "      <td>1.274559</td>\n",
       "      <td>10.960064</td>\n",
       "      <td>10.939651</td>\n",
       "      <td>9.771828</td>\n",
       "      <td>1.248259</td>\n",
       "      <td>1.243509</td>\n",
       "      <td>9.245288</td>\n",
       "      <td>1.054186</td>\n",
       "      <td>0</td>\n",
       "      <td>1.148307</td>\n",
       "      <td>7</td>\n",
       "      <td>10</td>\n",
       "      <td>16</td>\n",
       "    </tr>\n",
       "    <tr>\n",
       "      <th>1513</th>\n",
       "      <td>1.51</td>\n",
       "      <td>1.273102</td>\n",
       "      <td>10.676528</td>\n",
       "      <td>10.862658</td>\n",
       "      <td>9.874088</td>\n",
       "      <td>1.249768</td>\n",
       "      <td>1.246272</td>\n",
       "      <td>9.059234</td>\n",
       "      <td>0.000000</td>\n",
       "      <td>0</td>\n",
       "      <td>1.148307</td>\n",
       "      <td>7</td>\n",
       "      <td>9</td>\n",
       "      <td>10</td>\n",
       "    </tr>\n",
       "    <tr>\n",
       "      <th>1514</th>\n",
       "      <td>1.48</td>\n",
       "      <td>1.273123</td>\n",
       "      <td>10.744316</td>\n",
       "      <td>10.876052</td>\n",
       "      <td>9.725432</td>\n",
       "      <td>1.249434</td>\n",
       "      <td>1.245658</td>\n",
       "      <td>9.019078</td>\n",
       "      <td>1.112966</td>\n",
       "      <td>0</td>\n",
       "      <td>1.148307</td>\n",
       "      <td>7</td>\n",
       "      <td>2</td>\n",
       "      <td>10</td>\n",
       "    </tr>\n",
       "    <tr>\n",
       "      <th>1515</th>\n",
       "      <td>1.47</td>\n",
       "      <td>1.274367</td>\n",
       "      <td>10.898807</td>\n",
       "      <td>10.889203</td>\n",
       "      <td>9.769752</td>\n",
       "      <td>1.250004</td>\n",
       "      <td>1.246687</td>\n",
       "      <td>9.021509</td>\n",
       "      <td>0.000000</td>\n",
       "      <td>0</td>\n",
       "      <td>1.148307</td>\n",
       "      <td>7</td>\n",
       "      <td>9</td>\n",
       "      <td>25</td>\n",
       "    </tr>\n",
       "    <tr>\n",
       "      <th>1516</th>\n",
       "      <td>1.43</td>\n",
       "      <td>1.273663</td>\n",
       "      <td>10.671682</td>\n",
       "      <td>10.900333</td>\n",
       "      <td>9.715042</td>\n",
       "      <td>1.251844</td>\n",
       "      <td>1.247454</td>\n",
       "      <td>9.363006</td>\n",
       "      <td>0.000000</td>\n",
       "      <td>0</td>\n",
       "      <td>1.148307</td>\n",
       "      <td>7</td>\n",
       "      <td>9</td>\n",
       "      <td>18</td>\n",
       "    </tr>\n",
       "  </tbody>\n",
       "</table>\n",
       "<p>1517 rows × 14 columns</p>\n",
       "</div>"
      ],
      "text/plain": [
       "      AveragePrice  Total Volume       4046       4225      4770  Total Bags  \\\n",
       "0             1.33      1.250117   6.944801  10.905146  3.895080    1.196840   \n",
       "1             1.35      1.246348   6.515127  10.706381  4.083115    1.199493   \n",
       "2             0.93      1.264141   6.679222  11.600485  4.879007    1.194867   \n",
       "3             1.08      1.254971   7.032624  11.184108  4.298373    1.184420   \n",
       "4             1.28      1.244591   6.848515  10.688288  4.340944    1.186379   \n",
       "...            ...           ...        ...        ...       ...         ...   \n",
       "1512          1.39      1.274559  10.960064  10.939651  9.771828    1.248259   \n",
       "1513          1.51      1.273102  10.676528  10.862658  9.874088    1.249768   \n",
       "1514          1.48      1.273123  10.744316  10.876052  9.725432    1.249434   \n",
       "1515          1.47      1.274367  10.898807  10.889203  9.769752    1.250004   \n",
       "1516          1.43      1.273663  10.671682  10.900333  9.715042    1.251844   \n",
       "\n",
       "      Small Bags  Large Bags  XLarge Bags  type      year  region  Month  Day  \n",
       "0       1.196517    4.545951     0.000000     0  1.148289       0     12   27  \n",
       "1       1.199187    4.589955     0.000000     0  1.148289       0     12   20  \n",
       "2       1.194481    4.645736     0.000000     0  1.148289       0     12   13  \n",
       "3       1.183682    4.903495     0.000000     0  1.148289       0      6   12  \n",
       "4       1.185358    5.291746     0.000000     0  1.148289       0     11   29  \n",
       "...          ...         ...          ...   ...       ...     ...    ...  ...  \n",
       "1512    1.243509    9.245288     1.054186     0  1.148307       7     10   16  \n",
       "1513    1.246272    9.059234     0.000000     0  1.148307       7      9   10  \n",
       "1514    1.245658    9.019078     1.112966     0  1.148307       7      2   10  \n",
       "1515    1.246687    9.021509     0.000000     0  1.148307       7      9   25  \n",
       "1516    1.247454    9.363006     0.000000     0  1.148307       7      9   18  \n",
       "\n",
       "[1517 rows x 14 columns]"
      ]
     },
     "execution_count": 204,
     "metadata": {},
     "output_type": "execute_result"
    }
   ],
   "source": [
    "df1"
   ]
  },
  {
   "cell_type": "code",
   "execution_count": 205,
   "metadata": {},
   "outputs": [
    {
     "name": "stdout",
     "output_type": "stream",
     "text": [
      "[0]\n"
     ]
    }
   ],
   "source": [
    "print(df1['type'].unique())       "
   ]
  },
  {
   "cell_type": "code",
   "execution_count": 206,
   "metadata": {},
   "outputs": [],
   "source": [
    "collist=df1.columns.values\n",
    "ncol=16\n",
    "nrows=10 "
   ]
  },
  {
   "cell_type": "code",
   "execution_count": 207,
   "metadata": {},
   "outputs": [
    {
     "data": {
      "image/png": "[encoded data removed]",
      "text/plain": [
       "<Figure size 1224x5040 with 13 Axes>"
      ]
     },
     "metadata": {
      "needs_background": "light"
     },
     "output_type": "display_data"
    }
   ],
   "source": [
    "plt.figure(figsize=(17,70))     \n",
    "for i in range(1,len(collist)): \n",
    "    plt.subplot(nrows,ncol,i+1) \n",
    "    sns.boxplot(df1[collist[i]],color='green',orient='v') \n",
    "    plt.tight_layout()"
   ]
  },
  {
   "cell_type": "code",
   "execution_count": 208,
   "metadata": {},
   "outputs": [
    {
     "data": {
      "text/html": [
       "<div>\n",
       "<style scoped>\n",
       "    .dataframe tbody tr th:only-of-type {\n",
       "        vertical-align: middle;\n",
       "    }\n",
       "\n",
       "    .dataframe tbody tr th {\n",
       "        vertical-align: top;\n",
       "    }\n",
       "\n",
       "    .dataframe thead th {\n",
       "        text-align: right;\n",
       "    }\n",
       "</style>\n",
       "<table border=\"1\" class=\"dataframe\">\n",
       "  <thead>\n",
       "    <tr style=\"text-align: right;\">\n",
       "      <th></th>\n",
       "      <th>AveragePrice</th>\n",
       "      <th>Total Volume</th>\n",
       "      <th>4046</th>\n",
       "      <th>4225</th>\n",
       "      <th>4770</th>\n",
       "      <th>Total Bags</th>\n",
       "      <th>Small Bags</th>\n",
       "      <th>Large Bags</th>\n",
       "      <th>XLarge Bags</th>\n",
       "      <th>type</th>\n",
       "      <th>year</th>\n",
       "      <th>region</th>\n",
       "      <th>Month</th>\n",
       "      <th>Day</th>\n",
       "    </tr>\n",
       "  </thead>\n",
       "  <tbody>\n",
       "    <tr>\n",
       "      <th>count</th>\n",
       "      <td>1517.000000</td>\n",
       "      <td>1517.000000</td>\n",
       "      <td>1517.000000</td>\n",
       "      <td>1517.000000</td>\n",
       "      <td>1517.000000</td>\n",
       "      <td>1517.000000</td>\n",
       "      <td>1517.000000</td>\n",
       "      <td>1517.000000</td>\n",
       "      <td>1517.000000</td>\n",
       "      <td>1517.0</td>\n",
       "      <td>1517.000000</td>\n",
       "      <td>1517.000000</td>\n",
       "      <td>1517.000000</td>\n",
       "      <td>1517.000000</td>\n",
       "    </tr>\n",
       "    <tr>\n",
       "      <th>mean</th>\n",
       "      <td>1.074990</td>\n",
       "      <td>1.290329</td>\n",
       "      <td>11.216036</td>\n",
       "      <td>11.871686</td>\n",
       "      <td>8.557664</td>\n",
       "      <td>1.255387</td>\n",
       "      <td>1.250895</td>\n",
       "      <td>7.848268</td>\n",
       "      <td>0.491742</td>\n",
       "      <td>0.0</td>\n",
       "      <td>1.148292</td>\n",
       "      <td>21.196440</td>\n",
       "      <td>6.362558</td>\n",
       "      <td>15.253790</td>\n",
       "    </tr>\n",
       "    <tr>\n",
       "      <th>std</th>\n",
       "      <td>0.188891</td>\n",
       "      <td>0.027405</td>\n",
       "      <td>2.337126</td>\n",
       "      <td>1.703644</td>\n",
       "      <td>2.575991</td>\n",
       "      <td>0.030793</td>\n",
       "      <td>0.031644</td>\n",
       "      <td>3.417046</td>\n",
       "      <td>0.530829</td>\n",
       "      <td>0.0</td>\n",
       "      <td>0.000007</td>\n",
       "      <td>16.132398</td>\n",
       "      <td>3.472146</td>\n",
       "      <td>8.965902</td>\n",
       "    </tr>\n",
       "    <tr>\n",
       "      <th>min</th>\n",
       "      <td>0.490000</td>\n",
       "      <td>1.237788</td>\n",
       "      <td>6.150006</td>\n",
       "      <td>7.487045</td>\n",
       "      <td>0.000000</td>\n",
       "      <td>1.165923</td>\n",
       "      <td>1.165923</td>\n",
       "      <td>0.000000</td>\n",
       "      <td>0.000000</td>\n",
       "      <td>0.0</td>\n",
       "      <td>1.148289</td>\n",
       "      <td>0.000000</td>\n",
       "      <td>1.000000</td>\n",
       "      <td>1.000000</td>\n",
       "    </tr>\n",
       "    <tr>\n",
       "      <th>25%</th>\n",
       "      <td>0.980000</td>\n",
       "      <td>1.269012</td>\n",
       "      <td>9.923356</td>\n",
       "      <td>10.632896</td>\n",
       "      <td>6.815914</td>\n",
       "      <td>1.236079</td>\n",
       "      <td>1.231040</td>\n",
       "      <td>6.294786</td>\n",
       "      <td>0.000000</td>\n",
       "      <td>0.0</td>\n",
       "      <td>1.148289</td>\n",
       "      <td>6.000000</td>\n",
       "      <td>3.000000</td>\n",
       "      <td>7.000000</td>\n",
       "    </tr>\n",
       "    <tr>\n",
       "      <th>50%</th>\n",
       "      <td>1.080000</td>\n",
       "      <td>1.289875</td>\n",
       "      <td>11.311448</td>\n",
       "      <td>11.684067</td>\n",
       "      <td>8.947568</td>\n",
       "      <td>1.253443</td>\n",
       "      <td>1.249418</td>\n",
       "      <td>8.526222</td>\n",
       "      <td>0.000000</td>\n",
       "      <td>0.0</td>\n",
       "      <td>1.148289</td>\n",
       "      <td>19.000000</td>\n",
       "      <td>6.000000</td>\n",
       "      <td>15.000000</td>\n",
       "    </tr>\n",
       "    <tr>\n",
       "      <th>75%</th>\n",
       "      <td>1.190000</td>\n",
       "      <td>1.306831</td>\n",
       "      <td>12.841536</td>\n",
       "      <td>13.092216</td>\n",
       "      <td>10.280838</td>\n",
       "      <td>1.270456</td>\n",
       "      <td>1.268823</td>\n",
       "      <td>10.284273</td>\n",
       "      <td>1.080304</td>\n",
       "      <td>0.0</td>\n",
       "      <td>1.148289</td>\n",
       "      <td>35.000000</td>\n",
       "      <td>9.000000</td>\n",
       "      <td>22.000000</td>\n",
       "    </tr>\n",
       "    <tr>\n",
       "      <th>max</th>\n",
       "      <td>1.680000</td>\n",
       "      <td>1.367096</td>\n",
       "      <td>16.756419</td>\n",
       "      <td>16.757656</td>\n",
       "      <td>14.138693</td>\n",
       "      <td>1.339409</td>\n",
       "      <td>1.337304</td>\n",
       "      <td>13.929801</td>\n",
       "      <td>1.262133</td>\n",
       "      <td>0.0</td>\n",
       "      <td>1.148307</td>\n",
       "      <td>50.000000</td>\n",
       "      <td>12.000000</td>\n",
       "      <td>31.000000</td>\n",
       "    </tr>\n",
       "  </tbody>\n",
       "</table>\n",
       "</div>"
      ],
      "text/plain": [
       "       AveragePrice  Total Volume         4046         4225         4770  \\\n",
       "count   1517.000000   1517.000000  1517.000000  1517.000000  1517.000000   \n",
       "mean       1.074990      1.290329    11.216036    11.871686     8.557664   \n",
       "std        0.188891      0.027405     2.337126     1.703644     2.575991   \n",
       "min        0.490000      1.237788     6.150006     7.487045     0.000000   \n",
       "25%        0.980000      1.269012     9.923356    10.632896     6.815914   \n",
       "50%        1.080000      1.289875    11.311448    11.684067     8.947568   \n",
       "75%        1.190000      1.306831    12.841536    13.092216    10.280838   \n",
       "max        1.680000      1.367096    16.756419    16.757656    14.138693   \n",
       "\n",
       "        Total Bags   Small Bags   Large Bags  XLarge Bags    type  \\\n",
       "count  1517.000000  1517.000000  1517.000000  1517.000000  1517.0   \n",
       "mean      1.255387     1.250895     7.848268     0.491742     0.0   \n",
       "std       0.030793     0.031644     3.417046     0.530829     0.0   \n",
       "min       1.165923     1.165923     0.000000     0.000000     0.0   \n",
       "25%       1.236079     1.231040     6.294786     0.000000     0.0   \n",
       "50%       1.253443     1.249418     8.526222     0.000000     0.0   \n",
       "75%       1.270456     1.268823    10.284273     1.080304     0.0   \n",
       "max       1.339409     1.337304    13.929801     1.262133     0.0   \n",
       "\n",
       "              year       region        Month          Day  \n",
       "count  1517.000000  1517.000000  1517.000000  1517.000000  \n",
       "mean      1.148292    21.196440     6.362558    15.253790  \n",
       "std       0.000007    16.132398     3.472146     8.965902  \n",
       "min       1.148289     0.000000     1.000000     1.000000  \n",
       "25%       1.148289     6.000000     3.000000     7.000000  \n",
       "50%       1.148289    19.000000     6.000000    15.000000  \n",
       "75%       1.148289    35.000000     9.000000    22.000000  \n",
       "max       1.148307    50.000000    12.000000    31.000000  "
      ]
     },
     "execution_count": 208,
     "metadata": {},
     "output_type": "execute_result"
    }
   ],
   "source": [
    "df1.describe()"
   ]
  },
  {
   "cell_type": "code",
   "execution_count": 209,
   "metadata": {},
   "outputs": [
    {
     "data": {
      "text/plain": [
       "array([[<matplotlib.axes._subplots.AxesSubplot object at 0x0000025378EFAA88>,\n",
       "        <matplotlib.axes._subplots.AxesSubplot object at 0x0000025378FB5188>,\n",
       "        <matplotlib.axes._subplots.AxesSubplot object at 0x0000025378FD9408>,\n",
       "        <matplotlib.axes._subplots.AxesSubplot object at 0x00000253774BBE08>],\n",
       "       [<matplotlib.axes._subplots.AxesSubplot object at 0x00000253774F6808>,\n",
       "        <matplotlib.axes._subplots.AxesSubplot object at 0x00000253775301C8>,\n",
       "        <matplotlib.axes._subplots.AxesSubplot object at 0x0000025377566B48>,\n",
       "        <matplotlib.axes._subplots.AxesSubplot object at 0x000002537759E9C8>],\n",
       "       [<matplotlib.axes._subplots.AxesSubplot object at 0x00000253775A9C08>,\n",
       "        <matplotlib.axes._subplots.AxesSubplot object at 0x00000253775E1DC8>,\n",
       "        <matplotlib.axes._subplots.AxesSubplot object at 0x0000025377647D08>,\n",
       "        <matplotlib.axes._subplots.AxesSubplot object at 0x000002537864FD88>],\n",
       "       [<matplotlib.axes._subplots.AxesSubplot object at 0x0000025378687E88>,\n",
       "        <matplotlib.axes._subplots.AxesSubplot object at 0x00000253786CBE88>,\n",
       "        <matplotlib.axes._subplots.AxesSubplot object at 0x00000253786FF108>,\n",
       "        <matplotlib.axes._subplots.AxesSubplot object at 0x00000253787372C8>]],\n",
       "      dtype=object)"
      ]
     },
     "execution_count": 209,
     "metadata": {},
     "output_type": "execute_result"
    },
    {
     "data": {
      "image/png": "[encoded data removed]",
      "text/plain": [
       "<Figure size 1080x1080 with 16 Axes>"
      ]
     },
     "metadata": {
      "needs_background": "light"
     },
     "output_type": "display_data"
    }
   ],
   "source": [
    "df1.hist(figsize=(15,15))  "
   ]
  },
  {
   "cell_type": "code",
   "execution_count": 210,
   "metadata": {},
   "outputs": [
    {
     "data": {
      "text/html": [
       "<div>\n",
       "<style scoped>\n",
       "    .dataframe tbody tr th:only-of-type {\n",
       "        vertical-align: middle;\n",
       "    }\n",
       "\n",
       "    .dataframe tbody tr th {\n",
       "        vertical-align: top;\n",
       "    }\n",
       "\n",
       "    .dataframe thead th {\n",
       "        text-align: right;\n",
       "    }\n",
       "</style>\n",
       "<table border=\"1\" class=\"dataframe\">\n",
       "  <thead>\n",
       "    <tr style=\"text-align: right;\">\n",
       "      <th></th>\n",
       "      <th>AveragePrice</th>\n",
       "      <th>Total Volume</th>\n",
       "      <th>4046</th>\n",
       "      <th>4225</th>\n",
       "      <th>4770</th>\n",
       "      <th>Total Bags</th>\n",
       "      <th>Small Bags</th>\n",
       "      <th>Large Bags</th>\n",
       "      <th>XLarge Bags</th>\n",
       "      <th>type</th>\n",
       "      <th>year</th>\n",
       "      <th>region</th>\n",
       "      <th>Month</th>\n",
       "      <th>Day</th>\n",
       "    </tr>\n",
       "  </thead>\n",
       "  <tbody>\n",
       "    <tr>\n",
       "      <th>AveragePrice</th>\n",
       "      <td>1.000000</td>\n",
       "      <td>-0.332684</td>\n",
       "      <td>-0.511040</td>\n",
       "      <td>-0.129466</td>\n",
       "      <td>-0.289056</td>\n",
       "      <td>-0.194002</td>\n",
       "      <td>-0.151665</td>\n",
       "      <td>-0.214802</td>\n",
       "      <td>-0.080425</td>\n",
       "      <td>NaN</td>\n",
       "      <td>0.178683</td>\n",
       "      <td>-0.229408</td>\n",
       "      <td>0.060642</td>\n",
       "      <td>0.092589</td>\n",
       "    </tr>\n",
       "    <tr>\n",
       "      <th>Total Volume</th>\n",
       "      <td>-0.332684</td>\n",
       "      <td>1.000000</td>\n",
       "      <td>0.765850</td>\n",
       "      <td>0.887140</td>\n",
       "      <td>0.633957</td>\n",
       "      <td>0.927739</td>\n",
       "      <td>0.913517</td>\n",
       "      <td>0.585272</td>\n",
       "      <td>0.350008</td>\n",
       "      <td>NaN</td>\n",
       "      <td>-0.002263</td>\n",
       "      <td>0.189538</td>\n",
       "      <td>-0.072726</td>\n",
       "      <td>-0.050642</td>\n",
       "    </tr>\n",
       "    <tr>\n",
       "      <th>4046</th>\n",
       "      <td>-0.511040</td>\n",
       "      <td>0.765850</td>\n",
       "      <td>1.000000</td>\n",
       "      <td>0.456283</td>\n",
       "      <td>0.584634</td>\n",
       "      <td>0.646110</td>\n",
       "      <td>0.611015</td>\n",
       "      <td>0.522558</td>\n",
       "      <td>0.282617</td>\n",
       "      <td>NaN</td>\n",
       "      <td>-0.124610</td>\n",
       "      <td>0.324688</td>\n",
       "      <td>-0.067074</td>\n",
       "      <td>-0.037744</td>\n",
       "    </tr>\n",
       "    <tr>\n",
       "      <th>4225</th>\n",
       "      <td>-0.129466</td>\n",
       "      <td>0.887140</td>\n",
       "      <td>0.456283</td>\n",
       "      <td>1.000000</td>\n",
       "      <td>0.552522</td>\n",
       "      <td>0.832846</td>\n",
       "      <td>0.842103</td>\n",
       "      <td>0.453820</td>\n",
       "      <td>0.313593</td>\n",
       "      <td>NaN</td>\n",
       "      <td>0.005161</td>\n",
       "      <td>0.134603</td>\n",
       "      <td>-0.043650</td>\n",
       "      <td>-0.047734</td>\n",
       "    </tr>\n",
       "    <tr>\n",
       "      <th>4770</th>\n",
       "      <td>-0.289056</td>\n",
       "      <td>0.633957</td>\n",
       "      <td>0.584634</td>\n",
       "      <td>0.552522</td>\n",
       "      <td>1.000000</td>\n",
       "      <td>0.569365</td>\n",
       "      <td>0.581791</td>\n",
       "      <td>0.361404</td>\n",
       "      <td>0.509412</td>\n",
       "      <td>NaN</td>\n",
       "      <td>0.004865</td>\n",
       "      <td>0.052908</td>\n",
       "      <td>-0.020798</td>\n",
       "      <td>0.001779</td>\n",
       "    </tr>\n",
       "    <tr>\n",
       "      <th>Total Bags</th>\n",
       "      <td>-0.194002</td>\n",
       "      <td>0.927739</td>\n",
       "      <td>0.646110</td>\n",
       "      <td>0.832846</td>\n",
       "      <td>0.569365</td>\n",
       "      <td>1.000000</td>\n",
       "      <td>0.982529</td>\n",
       "      <td>0.594498</td>\n",
       "      <td>0.406430</td>\n",
       "      <td>NaN</td>\n",
       "      <td>0.134829</td>\n",
       "      <td>0.155753</td>\n",
       "      <td>-0.056280</td>\n",
       "      <td>-0.034710</td>\n",
       "    </tr>\n",
       "    <tr>\n",
       "      <th>Small Bags</th>\n",
       "      <td>-0.151665</td>\n",
       "      <td>0.913517</td>\n",
       "      <td>0.611015</td>\n",
       "      <td>0.842103</td>\n",
       "      <td>0.581791</td>\n",
       "      <td>0.982529</td>\n",
       "      <td>1.000000</td>\n",
       "      <td>0.491032</td>\n",
       "      <td>0.392218</td>\n",
       "      <td>NaN</td>\n",
       "      <td>0.166083</td>\n",
       "      <td>0.142318</td>\n",
       "      <td>-0.061846</td>\n",
       "      <td>-0.028143</td>\n",
       "    </tr>\n",
       "    <tr>\n",
       "      <th>Large Bags</th>\n",
       "      <td>-0.214802</td>\n",
       "      <td>0.585272</td>\n",
       "      <td>0.522558</td>\n",
       "      <td>0.453820</td>\n",
       "      <td>0.361404</td>\n",
       "      <td>0.594498</td>\n",
       "      <td>0.491032</td>\n",
       "      <td>1.000000</td>\n",
       "      <td>0.254428</td>\n",
       "      <td>NaN</td>\n",
       "      <td>-0.112991</td>\n",
       "      <td>0.084499</td>\n",
       "      <td>-0.038081</td>\n",
       "      <td>-0.037542</td>\n",
       "    </tr>\n",
       "    <tr>\n",
       "      <th>XLarge Bags</th>\n",
       "      <td>-0.080425</td>\n",
       "      <td>0.350008</td>\n",
       "      <td>0.282617</td>\n",
       "      <td>0.313593</td>\n",
       "      <td>0.509412</td>\n",
       "      <td>0.406430</td>\n",
       "      <td>0.392218</td>\n",
       "      <td>0.254428</td>\n",
       "      <td>1.000000</td>\n",
       "      <td>NaN</td>\n",
       "      <td>0.150768</td>\n",
       "      <td>-0.148021</td>\n",
       "      <td>0.071917</td>\n",
       "      <td>0.031125</td>\n",
       "    </tr>\n",
       "    <tr>\n",
       "      <th>type</th>\n",
       "      <td>NaN</td>\n",
       "      <td>NaN</td>\n",
       "      <td>NaN</td>\n",
       "      <td>NaN</td>\n",
       "      <td>NaN</td>\n",
       "      <td>NaN</td>\n",
       "      <td>NaN</td>\n",
       "      <td>NaN</td>\n",
       "      <td>NaN</td>\n",
       "      <td>NaN</td>\n",
       "      <td>NaN</td>\n",
       "      <td>NaN</td>\n",
       "      <td>NaN</td>\n",
       "      <td>NaN</td>\n",
       "    </tr>\n",
       "    <tr>\n",
       "      <th>year</th>\n",
       "      <td>0.178683</td>\n",
       "      <td>-0.002263</td>\n",
       "      <td>-0.124610</td>\n",
       "      <td>0.005161</td>\n",
       "      <td>0.004865</td>\n",
       "      <td>0.134829</td>\n",
       "      <td>0.166083</td>\n",
       "      <td>-0.112991</td>\n",
       "      <td>0.150768</td>\n",
       "      <td>NaN</td>\n",
       "      <td>1.000000</td>\n",
       "      <td>-0.470472</td>\n",
       "      <td>-0.013144</td>\n",
       "      <td>0.029744</td>\n",
       "    </tr>\n",
       "    <tr>\n",
       "      <th>region</th>\n",
       "      <td>-0.229408</td>\n",
       "      <td>0.189538</td>\n",
       "      <td>0.324688</td>\n",
       "      <td>0.134603</td>\n",
       "      <td>0.052908</td>\n",
       "      <td>0.155753</td>\n",
       "      <td>0.142318</td>\n",
       "      <td>0.084499</td>\n",
       "      <td>-0.148021</td>\n",
       "      <td>NaN</td>\n",
       "      <td>-0.470472</td>\n",
       "      <td>1.000000</td>\n",
       "      <td>0.000977</td>\n",
       "      <td>-0.028670</td>\n",
       "    </tr>\n",
       "    <tr>\n",
       "      <th>Month</th>\n",
       "      <td>0.060642</td>\n",
       "      <td>-0.072726</td>\n",
       "      <td>-0.067074</td>\n",
       "      <td>-0.043650</td>\n",
       "      <td>-0.020798</td>\n",
       "      <td>-0.056280</td>\n",
       "      <td>-0.061846</td>\n",
       "      <td>-0.038081</td>\n",
       "      <td>0.071917</td>\n",
       "      <td>NaN</td>\n",
       "      <td>-0.013144</td>\n",
       "      <td>0.000977</td>\n",
       "      <td>1.000000</td>\n",
       "      <td>-0.024337</td>\n",
       "    </tr>\n",
       "    <tr>\n",
       "      <th>Day</th>\n",
       "      <td>0.092589</td>\n",
       "      <td>-0.050642</td>\n",
       "      <td>-0.037744</td>\n",
       "      <td>-0.047734</td>\n",
       "      <td>0.001779</td>\n",
       "      <td>-0.034710</td>\n",
       "      <td>-0.028143</td>\n",
       "      <td>-0.037542</td>\n",
       "      <td>0.031125</td>\n",
       "      <td>NaN</td>\n",
       "      <td>0.029744</td>\n",
       "      <td>-0.028670</td>\n",
       "      <td>-0.024337</td>\n",
       "      <td>1.000000</td>\n",
       "    </tr>\n",
       "  </tbody>\n",
       "</table>\n",
       "</div>"
      ],
      "text/plain": [
       "              AveragePrice  Total Volume      4046      4225      4770  \\\n",
       "AveragePrice      1.000000     -0.332684 -0.511040 -0.129466 -0.289056   \n",
       "Total Volume     -0.332684      1.000000  0.765850  0.887140  0.633957   \n",
       "4046             -0.511040      0.765850  1.000000  0.456283  0.584634   \n",
       "4225             -0.129466      0.887140  0.456283  1.000000  0.552522   \n",
       "4770             -0.289056      0.633957  0.584634  0.552522  1.000000   \n",
       "Total Bags       -0.194002      0.927739  0.646110  0.832846  0.569365   \n",
       "Small Bags       -0.151665      0.913517  0.611015  0.842103  0.581791   \n",
       "Large Bags       -0.214802      0.585272  0.522558  0.453820  0.361404   \n",
       "XLarge Bags      -0.080425      0.350008  0.282617  0.313593  0.509412   \n",
       "type                   NaN           NaN       NaN       NaN       NaN   \n",
       "year              0.178683     -0.002263 -0.124610  0.005161  0.004865   \n",
       "region           -0.229408      0.189538  0.324688  0.134603  0.052908   \n",
       "Month             0.060642     -0.072726 -0.067074 -0.043650 -0.020798   \n",
       "Day               0.092589     -0.050642 -0.037744 -0.047734  0.001779   \n",
       "\n",
       "              Total Bags  Small Bags  Large Bags  XLarge Bags  type      year  \\\n",
       "AveragePrice   -0.194002   -0.151665   -0.214802    -0.080425   NaN  0.178683   \n",
       "Total Volume    0.927739    0.913517    0.585272     0.350008   NaN -0.002263   \n",
       "4046            0.646110    0.611015    0.522558     0.282617   NaN -0.124610   \n",
       "4225            0.832846    0.842103    0.453820     0.313593   NaN  0.005161   \n",
       "4770            0.569365    0.581791    0.361404     0.509412   NaN  0.004865   \n",
       "Total Bags      1.000000    0.982529    0.594498     0.406430   NaN  0.134829   \n",
       "Small Bags      0.982529    1.000000    0.491032     0.392218   NaN  0.166083   \n",
       "Large Bags      0.594498    0.491032    1.000000     0.254428   NaN -0.112991   \n",
       "XLarge Bags     0.406430    0.392218    0.254428     1.000000   NaN  0.150768   \n",
       "type                 NaN         NaN         NaN          NaN   NaN       NaN   \n",
       "year            0.134829    0.166083   -0.112991     0.150768   NaN  1.000000   \n",
       "region          0.155753    0.142318    0.084499    -0.148021   NaN -0.470472   \n",
       "Month          -0.056280   -0.061846   -0.038081     0.071917   NaN -0.013144   \n",
       "Day            -0.034710   -0.028143   -0.037542     0.031125   NaN  0.029744   \n",
       "\n",
       "                region     Month       Day  \n",
       "AveragePrice -0.229408  0.060642  0.092589  \n",
       "Total Volume  0.189538 -0.072726 -0.050642  \n",
       "4046          0.324688 -0.067074 -0.037744  \n",
       "4225          0.134603 -0.043650 -0.047734  \n",
       "4770          0.052908 -0.020798  0.001779  \n",
       "Total Bags    0.155753 -0.056280 -0.034710  \n",
       "Small Bags    0.142318 -0.061846 -0.028143  \n",
       "Large Bags    0.084499 -0.038081 -0.037542  \n",
       "XLarge Bags  -0.148021  0.071917  0.031125  \n",
       "type               NaN       NaN       NaN  \n",
       "year         -0.470472 -0.013144  0.029744  \n",
       "region        1.000000  0.000977 -0.028670  \n",
       "Month         0.000977  1.000000 -0.024337  \n",
       "Day          -0.028670 -0.024337  1.000000  "
      ]
     },
     "execution_count": 210,
     "metadata": {},
     "output_type": "execute_result"
    }
   ],
   "source": [
    "df1.corr()"
   ]
  },
  {
   "cell_type": "code",
   "execution_count": 211,
   "metadata": {},
   "outputs": [
    {
     "data": {
      "text/plain": [
       "<matplotlib.axes._subplots.AxesSubplot at 0x25378afc208>"
      ]
     },
     "execution_count": 211,
     "metadata": {},
     "output_type": "execute_result"
    },
    {
     "data": {
      "image/png": "[encoded data removed]",
      "text/plain": [
       "<Figure size 1440x432 with 2 Axes>"
      ]
     },
     "metadata": {
      "needs_background": "light"
     },
     "output_type": "display_data"
    }
   ],
   "source": [
    "plt.figure(figsize=(20,6))\n",
    "sns.heatmap(df1.corr(),annot=True)  "
   ]
  },
  {
   "cell_type": "code",
   "execution_count": 212,
   "metadata": {},
   "outputs": [
    {
     "data": {
      "text/plain": [
       "<matplotlib.axes._subplots.AxesSubplot at 0x25378afcf48>"
      ]
     },
     "execution_count": 212,
     "metadata": {},
     "output_type": "execute_result"
    },
    {
     "data": {
      "image/png": "[encoded data removed]",
      "text/plain": [
       "<Figure size 432x288 with 1 Axes>"
      ]
     },
     "metadata": {
      "needs_background": "light"
     },
     "output_type": "display_data"
    }
   ],
   "source": [
    "sns.violinplot(df1['Total Volume'])"
   ]
  },
  {
   "cell_type": "code",
   "execution_count": 213,
   "metadata": {},
   "outputs": [
    {
     "data": {
      "text/plain": [
       "<matplotlib.axes._subplots.AxesSubplot at 0x25378ca5b08>"
      ]
     },
     "execution_count": 213,
     "metadata": {},
     "output_type": "execute_result"
    },
    {
     "data": {
      "image/png": "[encoded data removed]",
      "text/plain": [
       "<Figure size 432x288 with 1 Axes>"
      ]
     },
     "metadata": {
      "needs_background": "light"
     },
     "output_type": "display_data"
    }
   ],
   "source": [
    "sns.boxplot(df1['4046'])"
   ]
  },
  {
   "cell_type": "code",
   "execution_count": 214,
   "metadata": {},
   "outputs": [
    {
     "data": {
      "text/plain": [
       "{'whiskers': [<matplotlib.lines.Line2D at 0x2534e39bd88>,\n",
       "  <matplotlib.lines.Line2D at 0x2534e39b4c8>],\n",
       " 'caps': [<matplotlib.lines.Line2D at 0x2534e367408>,\n",
       "  <matplotlib.lines.Line2D at 0x2534e426988>],\n",
       " 'boxes': [<matplotlib.lines.Line2D at 0x2534e3951c8>],\n",
       " 'medians': [<matplotlib.lines.Line2D at 0x2534e4301c8>],\n",
       " 'fliers': [<matplotlib.lines.Line2D at 0x2534e430c88>],\n",
       " 'means': []}"
      ]
     },
     "execution_count": 214,
     "metadata": {},
     "output_type": "execute_result"
    },
    {
     "data": {
      "image/png": "[encoded data removed]",
      "text/plain": [
       "<Figure size 432x288 with 1 Axes>"
      ]
     },
     "metadata": {
      "needs_background": "light"
     },
     "output_type": "display_data"
    }
   ],
   "source": [
    "plt.boxplot(df1['4225'])"
   ]
  },
  {
   "cell_type": "code",
   "execution_count": 215,
   "metadata": {},
   "outputs": [
    {
     "data": {
      "text/plain": [
       "{'whiskers': [<matplotlib.lines.Line2D at 0x2534e4830c8>,\n",
       "  <matplotlib.lines.Line2D at 0x2534e483248>],\n",
       " 'caps': [<matplotlib.lines.Line2D at 0x2534e483788>,\n",
       "  <matplotlib.lines.Line2D at 0x2534e45dc48>],\n",
       " 'boxes': [<matplotlib.lines.Line2D at 0x2534e452e48>],\n",
       " 'medians': [<matplotlib.lines.Line2D at 0x2534e45d148>],\n",
       " 'fliers': [<matplotlib.lines.Line2D at 0x2534e2db608>],\n",
       " 'means': []}"
      ]
     },
     "execution_count": 215,
     "metadata": {},
     "output_type": "execute_result"
    },
    {
     "data": {
      "image/png": "[encoded data removed]",
      "text/plain": [
       "<Figure size 432x288 with 1 Axes>"
      ]
     },
     "metadata": {
      "needs_background": "light"
     },
     "output_type": "display_data"
    }
   ],
   "source": [
    "plt.boxplot(df1['4770'])"
   ]
  },
  {
   "cell_type": "code",
   "execution_count": 216,
   "metadata": {},
   "outputs": [
    {
     "data": {
      "text/plain": [
       "<matplotlib.axes._subplots.AxesSubplot at 0x25378df4148>"
      ]
     },
     "execution_count": 216,
     "metadata": {},
     "output_type": "execute_result"
    },
    {
     "data": {
      "image/png": "[encoded data removed]",
      "text/plain": [
       "<Figure size 432x288 with 1 Axes>"
      ]
     },
     "metadata": {
      "needs_background": "light"
     },
     "output_type": "display_data"
    }
   ],
   "source": [
    "sns.boxplot(df1['Total Bags'])"
   ]
  },
  {
   "cell_type": "code",
   "execution_count": 217,
   "metadata": {},
   "outputs": [
    {
     "data": {
      "text/plain": [
       "{'bodies': [<matplotlib.collections.PolyCollection at 0x25378db8348>],\n",
       " 'cmaxes': <matplotlib.collections.LineCollection at 0x25378da6fc8>,\n",
       " 'cmins': <matplotlib.collections.LineCollection at 0x25378db8688>,\n",
       " 'cbars': <matplotlib.collections.LineCollection at 0x25378da5a88>}"
      ]
     },
     "execution_count": 217,
     "metadata": {},
     "output_type": "execute_result"
    },
    {
     "data": {
      "image/png": "[encoded data removed]",
      "text/plain": [
       "<Figure size 432x288 with 1 Axes>"
      ]
     },
     "metadata": {
      "needs_background": "light"
     },
     "output_type": "display_data"
    }
   ],
   "source": [
    "plt.violinplot(df1['AveragePrice'])"
   ]
  },
  {
   "cell_type": "code",
   "execution_count": 218,
   "metadata": {},
   "outputs": [
    {
     "data": {
      "text/plain": [
       "<matplotlib.axes._subplots.AxesSubplot at 0x2534e3a5dc8>"
      ]
     },
     "execution_count": 218,
     "metadata": {},
     "output_type": "execute_result"
    },
    {
     "data": {
      "image/png": "[encoded data removed]",
      "text/plain": [
       "<Figure size 432x288 with 1 Axes>"
      ]
     },
     "metadata": {
      "needs_background": "light"
     },
     "output_type": "display_data"
    }
   ],
   "source": [
    "sns.lineplot(x='AveragePrice', y='Total Volume', data=df1) "
   ]
  },
  {
   "cell_type": "code",
   "execution_count": 219,
   "metadata": {},
   "outputs": [
    {
     "data": {
      "text/plain": [
       "<matplotlib.axes._subplots.AxesSubplot at 0x25378d99948>"
      ]
     },
     "execution_count": 219,
     "metadata": {},
     "output_type": "execute_result"
    },
    {
     "data": {
      "image/png": "[encoded data removed]",
      "text/plain": [
       "<Figure size 432x288 with 1 Axes>"
      ]
     },
     "metadata": {
      "needs_background": "light"
     },
     "output_type": "display_data"
    }
   ],
   "source": [
    "sns.lineplot(x='region', y='Total Volume', data=df1) "
   ]
  },
  {
   "cell_type": "code",
   "execution_count": 220,
   "metadata": {},
   "outputs": [
    {
     "data": {
      "text/plain": [
       "<matplotlib.axes._subplots.AxesSubplot at 0x25377308688>"
      ]
     },
     "execution_count": 220,
     "metadata": {},
     "output_type": "execute_result"
    },
    {
     "data": {
      "image/png": "[encoded data removed]",
      "text/plain": [
       "<Figure size 432x288 with 1 Axes>"
      ]
     },
     "metadata": {
      "needs_background": "light"
     },
     "output_type": "display_data"
    }
   ],
   "source": [
    "sns.lineplot(x='region', y='Total Bags', data=df1) "
   ]
  },
  {
   "cell_type": "code",
   "execution_count": 221,
   "metadata": {},
   "outputs": [
    {
     "data": {
      "text/plain": [
       "<matplotlib.axes._subplots.AxesSubplot at 0x25378d2cf48>"
      ]
     },
     "execution_count": 221,
     "metadata": {},
     "output_type": "execute_result"
    },
    {
     "data": {
      "image/png": "[encoded data removed]",
      "text/plain": [
       "<Figure size 432x288 with 1 Axes>"
      ]
     },
     "metadata": {
      "needs_background": "light"
     },
     "output_type": "display_data"
    }
   ],
   "source": [
    "sns.scatterplot(x='region', y='4046', data=df1) "
   ]
  },
  {
   "cell_type": "code",
   "execution_count": 222,
   "metadata": {},
   "outputs": [
    {
     "data": {
      "text/plain": [
       "<matplotlib.axes._subplots.AxesSubplot at 0x25378d191c8>"
      ]
     },
     "execution_count": 222,
     "metadata": {},
     "output_type": "execute_result"
    },
    {
     "data": {
      "image/png": "[encoded data removed]",
      "text/plain": [
       "<Figure size 432x288 with 1 Axes>"
      ]
     },
     "metadata": {
      "needs_background": "light"
     },
     "output_type": "display_data"
    }
   ],
   "source": [
    "sns.scatterplot(x='region', y='4770', data=df1) "
   ]
  },
  {
   "cell_type": "code",
   "execution_count": 223,
   "metadata": {},
   "outputs": [
    {
     "data": {
      "text/plain": [
       "<seaborn.axisgrid.JointGrid at 0x2537729f448>"
      ]
     },
     "execution_count": 223,
     "metadata": {},
     "output_type": "execute_result"
    },
    {
     "data": {
      "image/png": "[encoded data removed]",
      "text/plain": [
       "<Figure size 432x432 with 3 Axes>"
      ]
     },
     "metadata": {
      "needs_background": "light"
     },
     "output_type": "display_data"
    }
   ],
   "source": [
    "sns.jointplot(x='region', y='4225', data=df1) "
   ]
  },
  {
   "cell_type": "code",
   "execution_count": 224,
   "metadata": {},
   "outputs": [
    {
     "data": {
      "text/plain": [
       "<matplotlib.axes._subplots.AxesSubplot at 0x253792208c8>"
      ]
     },
     "execution_count": 224,
     "metadata": {},
     "output_type": "execute_result"
    },
    {
     "data": {
      "image/png": "[encoded data removed]",
      "text/plain": [
       "<Figure size 432x288 with 1 Axes>"
      ]
     },
     "metadata": {
      "needs_background": "light"
     },
     "output_type": "display_data"
    }
   ],
   "source": [
    "sns.lineplot(x='AveragePrice', y='4046', data=df1) "
   ]
  },
  {
   "cell_type": "code",
   "execution_count": 225,
   "metadata": {},
   "outputs": [
    {
     "data": {
      "text/plain": [
       "<matplotlib.axes._subplots.AxesSubplot at 0x253791b2408>"
      ]
     },
     "execution_count": 225,
     "metadata": {},
     "output_type": "execute_result"
    },
    {
     "data": {
      "image/png": "[encoded data removed]",
      "text/plain": [
       "<Figure size 432x288 with 1 Axes>"
      ]
     },
     "metadata": {
      "needs_background": "light"
     },
     "output_type": "display_data"
    }
   ],
   "source": [
    "sns.lineplot(x='AveragePrice', y='4225', data=df1) "
   ]
  },
  {
   "cell_type": "code",
   "execution_count": 226,
   "metadata": {},
   "outputs": [
    {
     "data": {
      "text/plain": [
       "<matplotlib.axes._subplots.AxesSubplot at 0x25379239688>"
      ]
     },
     "execution_count": 226,
     "metadata": {},
     "output_type": "execute_result"
    },
    {
     "data": {
      "image/png": "[encoded data removed]",
      "text/plain": [
       "<Figure size 432x288 with 1 Axes>"
      ]
     },
     "metadata": {
      "needs_background": "light"
     },
     "output_type": "display_data"
    }
   ],
   "source": [
    "sns.scatterplot(x='AveragePrice', y='4770', data=df1) "
   ]
  },
  {
   "cell_type": "code",
   "execution_count": 227,
   "metadata": {},
   "outputs": [
    {
     "data": {
      "text/plain": [
       "<matplotlib.axes._subplots.AxesSubplot at 0x25379294d48>"
      ]
     },
     "execution_count": 227,
     "metadata": {},
     "output_type": "execute_result"
    },
    {
     "data": {
      "image/png": "[encoded data removed]",
      "text/plain": [
       "<Figure size 432x288 with 1 Axes>"
      ]
     },
     "metadata": {
      "needs_background": "light"
     },
     "output_type": "display_data"
    }
   ],
   "source": [
    "sns.lineplot(x='AveragePrice', y='Total Bags', data=df1) "
   ]
  },
  {
   "cell_type": "code",
   "execution_count": 228,
   "metadata": {},
   "outputs": [
    {
     "data": {
      "text/plain": [
       "<matplotlib.axes._subplots.AxesSubplot at 0x2537936de08>"
      ]
     },
     "execution_count": 228,
     "metadata": {},
     "output_type": "execute_result"
    },
    {
     "data": {
      "image/png": "[encoded data removed]",
      "text/plain": [
       "<Figure size 432x288 with 1 Axes>"
      ]
     },
     "metadata": {
      "needs_background": "light"
     },
     "output_type": "display_data"
    }
   ],
   "source": [
    "sns.lineplot(x='AveragePrice', y='Small Bags', data=df1) "
   ]
  },
  {
   "cell_type": "code",
   "execution_count": 229,
   "metadata": {},
   "outputs": [
    {
     "data": {
      "text/plain": [
       "<seaborn.axisgrid.JointGrid at 0x253792f5a88>"
      ]
     },
     "execution_count": 229,
     "metadata": {},
     "output_type": "execute_result"
    },
    {
     "data": {
      "image/png": "[encoded data removed]",
      "text/plain": [
       "<Figure size 432x432 with 3 Axes>"
      ]
     },
     "metadata": {
      "needs_background": "light"
     },
     "output_type": "display_data"
    }
   ],
   "source": [
    "sns.jointplot(x='AveragePrice', y='Large Bags', data=df1) "
   ]
  },
  {
   "cell_type": "code",
   "execution_count": 230,
   "metadata": {},
   "outputs": [
    {
     "data": {
      "text/plain": [
       "<seaborn.axisgrid.JointGrid at 0x25379661a08>"
      ]
     },
     "execution_count": 230,
     "metadata": {},
     "output_type": "execute_result"
    },
    {
     "data": {
      "image/png": "[encoded data removed]",
      "text/plain": [
       "<Figure size 432x432 with 3 Axes>"
      ]
     },
     "metadata": {
      "needs_background": "light"
     },
     "output_type": "display_data"
    }
   ],
   "source": [
    "sns.jointplot(x='AveragePrice', y='XLarge Bags', data=df1) "
   ]
  },
  {
   "cell_type": "code",
   "execution_count": 231,
   "metadata": {},
   "outputs": [
    {
     "data": {
      "text/html": [
       "<div>\n",
       "<style scoped>\n",
       "    .dataframe tbody tr th:only-of-type {\n",
       "        vertical-align: middle;\n",
       "    }\n",
       "\n",
       "    .dataframe tbody tr th {\n",
       "        vertical-align: top;\n",
       "    }\n",
       "\n",
       "    .dataframe thead th {\n",
       "        text-align: right;\n",
       "    }\n",
       "</style>\n",
       "<table border=\"1\" class=\"dataframe\">\n",
       "  <thead>\n",
       "    <tr style=\"text-align: right;\">\n",
       "      <th></th>\n",
       "      <th>AveragePrice</th>\n",
       "      <th>Total Volume</th>\n",
       "      <th>4046</th>\n",
       "      <th>4225</th>\n",
       "      <th>4770</th>\n",
       "      <th>Total Bags</th>\n",
       "      <th>Small Bags</th>\n",
       "      <th>Large Bags</th>\n",
       "      <th>XLarge Bags</th>\n",
       "      <th>type</th>\n",
       "      <th>year</th>\n",
       "      <th>region</th>\n",
       "      <th>Month</th>\n",
       "      <th>Day</th>\n",
       "    </tr>\n",
       "  </thead>\n",
       "  <tbody>\n",
       "    <tr>\n",
       "      <th>0</th>\n",
       "      <td>1.33</td>\n",
       "      <td>1.250117</td>\n",
       "      <td>6.944801</td>\n",
       "      <td>10.905146</td>\n",
       "      <td>3.895080</td>\n",
       "      <td>1.196840</td>\n",
       "      <td>1.196517</td>\n",
       "      <td>4.545951</td>\n",
       "      <td>0.000000</td>\n",
       "      <td>0</td>\n",
       "      <td>1.148289</td>\n",
       "      <td>0</td>\n",
       "      <td>12</td>\n",
       "      <td>27</td>\n",
       "    </tr>\n",
       "    <tr>\n",
       "      <th>1</th>\n",
       "      <td>1.35</td>\n",
       "      <td>1.246348</td>\n",
       "      <td>6.515127</td>\n",
       "      <td>10.706381</td>\n",
       "      <td>4.083115</td>\n",
       "      <td>1.199493</td>\n",
       "      <td>1.199187</td>\n",
       "      <td>4.589955</td>\n",
       "      <td>0.000000</td>\n",
       "      <td>0</td>\n",
       "      <td>1.148289</td>\n",
       "      <td>0</td>\n",
       "      <td>12</td>\n",
       "      <td>20</td>\n",
       "    </tr>\n",
       "    <tr>\n",
       "      <th>2</th>\n",
       "      <td>0.93</td>\n",
       "      <td>1.264141</td>\n",
       "      <td>6.679222</td>\n",
       "      <td>11.600485</td>\n",
       "      <td>4.879007</td>\n",
       "      <td>1.194867</td>\n",
       "      <td>1.194481</td>\n",
       "      <td>4.645736</td>\n",
       "      <td>0.000000</td>\n",
       "      <td>0</td>\n",
       "      <td>1.148289</td>\n",
       "      <td>0</td>\n",
       "      <td>12</td>\n",
       "      <td>13</td>\n",
       "    </tr>\n",
       "    <tr>\n",
       "      <th>3</th>\n",
       "      <td>1.08</td>\n",
       "      <td>1.254971</td>\n",
       "      <td>7.032624</td>\n",
       "      <td>11.184108</td>\n",
       "      <td>4.298373</td>\n",
       "      <td>1.184420</td>\n",
       "      <td>1.183682</td>\n",
       "      <td>4.903495</td>\n",
       "      <td>0.000000</td>\n",
       "      <td>0</td>\n",
       "      <td>1.148289</td>\n",
       "      <td>0</td>\n",
       "      <td>6</td>\n",
       "      <td>12</td>\n",
       "    </tr>\n",
       "    <tr>\n",
       "      <th>4</th>\n",
       "      <td>1.28</td>\n",
       "      <td>1.244591</td>\n",
       "      <td>6.848515</td>\n",
       "      <td>10.688288</td>\n",
       "      <td>4.340944</td>\n",
       "      <td>1.186379</td>\n",
       "      <td>1.185358</td>\n",
       "      <td>5.291746</td>\n",
       "      <td>0.000000</td>\n",
       "      <td>0</td>\n",
       "      <td>1.148289</td>\n",
       "      <td>0</td>\n",
       "      <td>11</td>\n",
       "      <td>29</td>\n",
       "    </tr>\n",
       "    <tr>\n",
       "      <th>...</th>\n",
       "      <td>...</td>\n",
       "      <td>...</td>\n",
       "      <td>...</td>\n",
       "      <td>...</td>\n",
       "      <td>...</td>\n",
       "      <td>...</td>\n",
       "      <td>...</td>\n",
       "      <td>...</td>\n",
       "      <td>...</td>\n",
       "      <td>...</td>\n",
       "      <td>...</td>\n",
       "      <td>...</td>\n",
       "      <td>...</td>\n",
       "      <td>...</td>\n",
       "    </tr>\n",
       "    <tr>\n",
       "      <th>1512</th>\n",
       "      <td>1.39</td>\n",
       "      <td>1.274559</td>\n",
       "      <td>10.960064</td>\n",
       "      <td>10.939651</td>\n",
       "      <td>9.771828</td>\n",
       "      <td>1.248259</td>\n",
       "      <td>1.243509</td>\n",
       "      <td>9.245288</td>\n",
       "      <td>1.054186</td>\n",
       "      <td>0</td>\n",
       "      <td>1.148307</td>\n",
       "      <td>7</td>\n",
       "      <td>10</td>\n",
       "      <td>16</td>\n",
       "    </tr>\n",
       "    <tr>\n",
       "      <th>1513</th>\n",
       "      <td>1.51</td>\n",
       "      <td>1.273102</td>\n",
       "      <td>10.676528</td>\n",
       "      <td>10.862658</td>\n",
       "      <td>9.874088</td>\n",
       "      <td>1.249768</td>\n",
       "      <td>1.246272</td>\n",
       "      <td>9.059234</td>\n",
       "      <td>0.000000</td>\n",
       "      <td>0</td>\n",
       "      <td>1.148307</td>\n",
       "      <td>7</td>\n",
       "      <td>9</td>\n",
       "      <td>10</td>\n",
       "    </tr>\n",
       "    <tr>\n",
       "      <th>1514</th>\n",
       "      <td>1.48</td>\n",
       "      <td>1.273123</td>\n",
       "      <td>10.744316</td>\n",
       "      <td>10.876052</td>\n",
       "      <td>9.725432</td>\n",
       "      <td>1.249434</td>\n",
       "      <td>1.245658</td>\n",
       "      <td>9.019078</td>\n",
       "      <td>1.112966</td>\n",
       "      <td>0</td>\n",
       "      <td>1.148307</td>\n",
       "      <td>7</td>\n",
       "      <td>2</td>\n",
       "      <td>10</td>\n",
       "    </tr>\n",
       "    <tr>\n",
       "      <th>1515</th>\n",
       "      <td>1.47</td>\n",
       "      <td>1.274367</td>\n",
       "      <td>10.898807</td>\n",
       "      <td>10.889203</td>\n",
       "      <td>9.769752</td>\n",
       "      <td>1.250004</td>\n",
       "      <td>1.246687</td>\n",
       "      <td>9.021509</td>\n",
       "      <td>0.000000</td>\n",
       "      <td>0</td>\n",
       "      <td>1.148307</td>\n",
       "      <td>7</td>\n",
       "      <td>9</td>\n",
       "      <td>25</td>\n",
       "    </tr>\n",
       "    <tr>\n",
       "      <th>1516</th>\n",
       "      <td>1.43</td>\n",
       "      <td>1.273663</td>\n",
       "      <td>10.671682</td>\n",
       "      <td>10.900333</td>\n",
       "      <td>9.715042</td>\n",
       "      <td>1.251844</td>\n",
       "      <td>1.247454</td>\n",
       "      <td>9.363006</td>\n",
       "      <td>0.000000</td>\n",
       "      <td>0</td>\n",
       "      <td>1.148307</td>\n",
       "      <td>7</td>\n",
       "      <td>9</td>\n",
       "      <td>18</td>\n",
       "    </tr>\n",
       "  </tbody>\n",
       "</table>\n",
       "<p>1517 rows × 14 columns</p>\n",
       "</div>"
      ],
      "text/plain": [
       "      AveragePrice  Total Volume       4046       4225      4770  Total Bags  \\\n",
       "0             1.33      1.250117   6.944801  10.905146  3.895080    1.196840   \n",
       "1             1.35      1.246348   6.515127  10.706381  4.083115    1.199493   \n",
       "2             0.93      1.264141   6.679222  11.600485  4.879007    1.194867   \n",
       "3             1.08      1.254971   7.032624  11.184108  4.298373    1.184420   \n",
       "4             1.28      1.244591   6.848515  10.688288  4.340944    1.186379   \n",
       "...            ...           ...        ...        ...       ...         ...   \n",
       "1512          1.39      1.274559  10.960064  10.939651  9.771828    1.248259   \n",
       "1513          1.51      1.273102  10.676528  10.862658  9.874088    1.249768   \n",
       "1514          1.48      1.273123  10.744316  10.876052  9.725432    1.249434   \n",
       "1515          1.47      1.274367  10.898807  10.889203  9.769752    1.250004   \n",
       "1516          1.43      1.273663  10.671682  10.900333  9.715042    1.251844   \n",
       "\n",
       "      Small Bags  Large Bags  XLarge Bags  type      year  region  Month  Day  \n",
       "0       1.196517    4.545951     0.000000     0  1.148289       0     12   27  \n",
       "1       1.199187    4.589955     0.000000     0  1.148289       0     12   20  \n",
       "2       1.194481    4.645736     0.000000     0  1.148289       0     12   13  \n",
       "3       1.183682    4.903495     0.000000     0  1.148289       0      6   12  \n",
       "4       1.185358    5.291746     0.000000     0  1.148289       0     11   29  \n",
       "...          ...         ...          ...   ...       ...     ...    ...  ...  \n",
       "1512    1.243509    9.245288     1.054186     0  1.148307       7     10   16  \n",
       "1513    1.246272    9.059234     0.000000     0  1.148307       7      9   10  \n",
       "1514    1.245658    9.019078     1.112966     0  1.148307       7      2   10  \n",
       "1515    1.246687    9.021509     0.000000     0  1.148307       7      9   25  \n",
       "1516    1.247454    9.363006     0.000000     0  1.148307       7      9   18  \n",
       "\n",
       "[1517 rows x 14 columns]"
      ]
     },
     "execution_count": 231,
     "metadata": {},
     "output_type": "execute_result"
    }
   ],
   "source": [
    "df1"
   ]
  },
  {
   "cell_type": "code",
   "execution_count": 232,
   "metadata": {},
   "outputs": [
    {
     "data": {
      "text/html": [
       "<div>\n",
       "<style scoped>\n",
       "    .dataframe tbody tr th:only-of-type {\n",
       "        vertical-align: middle;\n",
       "    }\n",
       "\n",
       "    .dataframe tbody tr th {\n",
       "        vertical-align: top;\n",
       "    }\n",
       "\n",
       "    .dataframe thead th {\n",
       "        text-align: right;\n",
       "    }\n",
       "</style>\n",
       "<table border=\"1\" class=\"dataframe\">\n",
       "  <thead>\n",
       "    <tr style=\"text-align: right;\">\n",
       "      <th></th>\n",
       "      <th>AveragePrice</th>\n",
       "      <th>Total Volume</th>\n",
       "      <th>4046</th>\n",
       "      <th>4225</th>\n",
       "      <th>4770</th>\n",
       "      <th>Total Bags</th>\n",
       "      <th>Small Bags</th>\n",
       "      <th>Large Bags</th>\n",
       "      <th>XLarge Bags</th>\n",
       "      <th>type</th>\n",
       "      <th>year</th>\n",
       "      <th>Month</th>\n",
       "      <th>Day</th>\n",
       "    </tr>\n",
       "  </thead>\n",
       "  <tbody>\n",
       "    <tr>\n",
       "      <th>0</th>\n",
       "      <td>1.33</td>\n",
       "      <td>1.250117</td>\n",
       "      <td>6.944801</td>\n",
       "      <td>10.905146</td>\n",
       "      <td>3.895080</td>\n",
       "      <td>1.196840</td>\n",
       "      <td>1.196517</td>\n",
       "      <td>4.545951</td>\n",
       "      <td>0.0</td>\n",
       "      <td>0</td>\n",
       "      <td>1.148289</td>\n",
       "      <td>12</td>\n",
       "      <td>27</td>\n",
       "    </tr>\n",
       "    <tr>\n",
       "      <th>1</th>\n",
       "      <td>1.35</td>\n",
       "      <td>1.246348</td>\n",
       "      <td>6.515127</td>\n",
       "      <td>10.706381</td>\n",
       "      <td>4.083115</td>\n",
       "      <td>1.199493</td>\n",
       "      <td>1.199187</td>\n",
       "      <td>4.589955</td>\n",
       "      <td>0.0</td>\n",
       "      <td>0</td>\n",
       "      <td>1.148289</td>\n",
       "      <td>12</td>\n",
       "      <td>20</td>\n",
       "    </tr>\n",
       "    <tr>\n",
       "      <th>2</th>\n",
       "      <td>0.93</td>\n",
       "      <td>1.264141</td>\n",
       "      <td>6.679222</td>\n",
       "      <td>11.600485</td>\n",
       "      <td>4.879007</td>\n",
       "      <td>1.194867</td>\n",
       "      <td>1.194481</td>\n",
       "      <td>4.645736</td>\n",
       "      <td>0.0</td>\n",
       "      <td>0</td>\n",
       "      <td>1.148289</td>\n",
       "      <td>12</td>\n",
       "      <td>13</td>\n",
       "    </tr>\n",
       "    <tr>\n",
       "      <th>3</th>\n",
       "      <td>1.08</td>\n",
       "      <td>1.254971</td>\n",
       "      <td>7.032624</td>\n",
       "      <td>11.184108</td>\n",
       "      <td>4.298373</td>\n",
       "      <td>1.184420</td>\n",
       "      <td>1.183682</td>\n",
       "      <td>4.903495</td>\n",
       "      <td>0.0</td>\n",
       "      <td>0</td>\n",
       "      <td>1.148289</td>\n",
       "      <td>6</td>\n",
       "      <td>12</td>\n",
       "    </tr>\n",
       "    <tr>\n",
       "      <th>4</th>\n",
       "      <td>1.28</td>\n",
       "      <td>1.244591</td>\n",
       "      <td>6.848515</td>\n",
       "      <td>10.688288</td>\n",
       "      <td>4.340944</td>\n",
       "      <td>1.186379</td>\n",
       "      <td>1.185358</td>\n",
       "      <td>5.291746</td>\n",
       "      <td>0.0</td>\n",
       "      <td>0</td>\n",
       "      <td>1.148289</td>\n",
       "      <td>11</td>\n",
       "      <td>29</td>\n",
       "    </tr>\n",
       "  </tbody>\n",
       "</table>\n",
       "</div>"
      ],
      "text/plain": [
       "   AveragePrice  Total Volume      4046       4225      4770  Total Bags  \\\n",
       "0          1.33      1.250117  6.944801  10.905146  3.895080    1.196840   \n",
       "1          1.35      1.246348  6.515127  10.706381  4.083115    1.199493   \n",
       "2          0.93      1.264141  6.679222  11.600485  4.879007    1.194867   \n",
       "3          1.08      1.254971  7.032624  11.184108  4.298373    1.184420   \n",
       "4          1.28      1.244591  6.848515  10.688288  4.340944    1.186379   \n",
       "\n",
       "   Small Bags  Large Bags  XLarge Bags  type      year  Month  Day  \n",
       "0    1.196517    4.545951          0.0     0  1.148289     12   27  \n",
       "1    1.199187    4.589955          0.0     0  1.148289     12   20  \n",
       "2    1.194481    4.645736          0.0     0  1.148289     12   13  \n",
       "3    1.183682    4.903495          0.0     0  1.148289      6   12  \n",
       "4    1.185358    5.291746          0.0     0  1.148289     11   29  "
      ]
     },
     "execution_count": 232,
     "metadata": {},
     "output_type": "execute_result"
    }
   ],
   "source": [
    "x=df1.drop('region',axis=1)\n",
    "x.head() "
   ]
  },
  {
   "cell_type": "code",
   "execution_count": 233,
   "metadata": {},
   "outputs": [
    {
     "data": {
      "text/html": [
       "<div>\n",
       "<style scoped>\n",
       "    .dataframe tbody tr th:only-of-type {\n",
       "        vertical-align: middle;\n",
       "    }\n",
       "\n",
       "    .dataframe tbody tr th {\n",
       "        vertical-align: top;\n",
       "    }\n",
       "\n",
       "    .dataframe thead th {\n",
       "        text-align: right;\n",
       "    }\n",
       "</style>\n",
       "<table border=\"1\" class=\"dataframe\">\n",
       "  <thead>\n",
       "    <tr style=\"text-align: right;\">\n",
       "      <th></th>\n",
       "      <th>region</th>\n",
       "    </tr>\n",
       "  </thead>\n",
       "  <tbody>\n",
       "    <tr>\n",
       "      <th>0</th>\n",
       "      <td>0</td>\n",
       "    </tr>\n",
       "    <tr>\n",
       "      <th>1</th>\n",
       "      <td>0</td>\n",
       "    </tr>\n",
       "    <tr>\n",
       "      <th>2</th>\n",
       "      <td>0</td>\n",
       "    </tr>\n",
       "    <tr>\n",
       "      <th>3</th>\n",
       "      <td>0</td>\n",
       "    </tr>\n",
       "    <tr>\n",
       "      <th>4</th>\n",
       "      <td>0</td>\n",
       "    </tr>\n",
       "  </tbody>\n",
       "</table>\n",
       "</div>"
      ],
      "text/plain": [
       "   region\n",
       "0       0\n",
       "1       0\n",
       "2       0\n",
       "3       0\n",
       "4       0"
      ]
     },
     "execution_count": 233,
     "metadata": {},
     "output_type": "execute_result"
    }
   ],
   "source": [
    "y=pd.DataFrame(df1.region)\n",
    "y.head()"
   ]
  },
  {
   "cell_type": "code",
   "execution_count": 234,
   "metadata": {},
   "outputs": [
    {
     "name": "stdout",
     "output_type": "stream",
     "text": [
      "Requirement already satisfied: xgboost in c:\\users\\hi\\anaconda3\\lib\\site-packages (1.2.0)\n",
      "Requirement already satisfied: scipy in c:\\users\\hi\\anaconda3\\lib\\site-packages (from xgboost) (1.4.1)\n",
      "Requirement already satisfied: numpy in c:\\users\\hi\\anaconda3\\lib\\site-packages (from xgboost) (1.18.1)\n",
      "Note: you may need to restart the kernel to use updated packages.\n"
     ]
    }
   ],
   "source": [
    "pip install xgboost"
   ]
  },
  {
   "cell_type": "code",
   "execution_count": 235,
   "metadata": {},
   "outputs": [],
   "source": [
    "from sklearn.model_selection import train_test_split\n",
    "from sklearn.neighbors import KNeighborsClassifier\n",
    "from sklearn.tree import DecisionTreeClassifier\n",
    "from sklearn.svm import SVC\n",
    "from sklearn.naive_bayes import MultinomialNB\n",
    "from sklearn.ensemble import RandomForestClassifier\n",
    "from sklearn.ensemble import GradientBoostingClassifier\n",
    "from sklearn.ensemble import AdaBoostClassifier\n",
    "from xgboost import XGBClassifier\n",
    "from sklearn.linear_model import LogisticRegression\n",
    "from sklearn.model_selection import cross_val_score\n",
    "from sklearn.metrics import accuracy_score"
   ]
  },
  {
   "cell_type": "code",
   "execution_count": 236,
   "metadata": {},
   "outputs": [],
   "source": [
    "train_x,test_x,train_y,test_y=train_test_split(x,y,random_state=80,test_size=0.20)"
   ]
  },
  {
   "cell_type": "code",
   "execution_count": 237,
   "metadata": {},
   "outputs": [
    {
     "name": "stdout",
     "output_type": "stream",
     "text": [
      "(1213, 13) (304, 13)\n"
     ]
    }
   ],
   "source": [
    "print(train_x.shape,test_x.shape)"
   ]
  },
  {
   "cell_type": "code",
   "execution_count": 238,
   "metadata": {},
   "outputs": [
    {
     "name": "stdout",
     "output_type": "stream",
     "text": [
      "(1213, 1) (304, 1)\n"
     ]
    }
   ],
   "source": [
    "print(train_y.shape,test_y.shape)"
   ]
  },
  {
   "cell_type": "code",
   "execution_count": 239,
   "metadata": {},
   "outputs": [
    {
     "name": "stdout",
     "output_type": "stream",
     "text": [
      "Accuracy_score for KNeighborsClassifier=  0.3881578947368421\n"
     ]
    }
   ],
   "source": [
    "kn=KNeighborsClassifier(n_neighbors=3) \n",
    "kn.fit(train_x,train_y) \n",
    "pre=kn.predict(test_x)\n",
    "AS=accuracy_score(test_y,pre)\n",
    "print('Accuracy_score for KNeighborsClassifier= ',AS)"
   ]
  },
  {
   "cell_type": "code",
   "execution_count": 240,
   "metadata": {},
   "outputs": [
    {
     "name": "stdout",
     "output_type": "stream",
     "text": [
      "Accuracy_score for SVC=  0.8848684210526315\n"
     ]
    }
   ],
   "source": [
    "sv=SVC(C=10,kernel='poly') \n",
    "sv.fit(train_x,train_y)\n",
    "pre=sv.predict(test_x)\n",
    "AS=accuracy_score(test_y,pre)\n",
    "print('Accuracy_score for SVC= ',AS)"
   ]
  },
  {
   "cell_type": "code",
   "execution_count": 241,
   "metadata": {},
   "outputs": [
    {
     "name": "stdout",
     "output_type": "stream",
     "text": [
      "Accuracy_score for DTC=  0.9111842105263158\n"
     ]
    }
   ],
   "source": [
    "dt=DecisionTreeClassifier(criterion='gini') \n",
    "dt.fit(train_x,train_y)\n",
    "pre=dt.predict(test_x)\n",
    "AS=accuracy_score(test_y,pre)\n",
    "print('Accuracy_score for DTC= ',AS) "
   ]
  },
  {
   "cell_type": "code",
   "execution_count": 242,
   "metadata": {},
   "outputs": [
    {
     "name": "stdout",
     "output_type": "stream",
     "text": [
      "Accuracy_score for rfc=  0.9539473684210527\n"
     ]
    }
   ],
   "source": [
    "rfc=RandomForestClassifier(criterion='entropy',n_estimators=1000) \n",
    "rfc.fit(train_x,train_y)\n",
    "pre=rfc.predict(test_x)\n",
    "AS=accuracy_score(test_y,pre)\n",
    "print('Accuracy_score for rfc= ',AS)"
   ]
  },
  {
   "cell_type": "code",
   "execution_count": 243,
   "metadata": {},
   "outputs": [
    {
     "name": "stdout",
     "output_type": "stream",
     "text": [
      "Accuracy_score for MNB=  0.22697368421052633\n"
     ]
    }
   ],
   "source": [
    "mnb=MultinomialNB(alpha=0.1,fit_prior=True)\n",
    "mnb.fit(train_x,train_y)\n",
    "pre=mnb.predict(test_x)\n",
    "AS=accuracy_score(test_y,pre)\n",
    "print('Accuracy_score for MNB= ',AS)"
   ]
  },
  {
   "cell_type": "code",
   "execution_count": 244,
   "metadata": {},
   "outputs": [
    {
     "name": "stdout",
     "output_type": "stream",
     "text": [
      "Accuracy_score for adc=  0.09868421052631579\n"
     ]
    }
   ],
   "source": [
    "adc=AdaBoostClassifier(base_estimator=sv,learning_rate=0.01,n_estimators=1000,algorithm='SAMME')\n",
    "adc.fit(train_x,train_y)\n",
    "pre=adc.predict(test_x) \n",
    "AS=accuracy_score(test_y,pre)\n",
    "print('Accuracy_score for adc= ',AS)"
   ]
  },
  {
   "cell_type": "code",
   "execution_count": 245,
   "metadata": {},
   "outputs": [
    {
     "name": "stdout",
     "output_type": "stream",
     "text": [
      "Accuracy_score for xgb=  0.9111842105263158\n"
     ]
    }
   ],
   "source": [
    "xgb=XGBClassifier(alpha=0.01, max_depth=6)\n",
    "xgb.fit(train_x,train_y)\n",
    "pre=xgb.predict(test_x) \n",
    "AS=accuracy_score(test_y,pre)\n",
    "print('Accuracy_score for xgb= ',AS)"
   ]
  },
  {
   "cell_type": "code",
   "execution_count": 246,
   "metadata": {},
   "outputs": [],
   "source": [
    "# Here RandomForestClassifier is working best so I am saving the model "
   ]
  },
  {
   "cell_type": "code",
   "execution_count": 272,
   "metadata": {},
   "outputs": [
    {
     "data": {
      "text/plain": [
       "['rfc_avocado_region.pkl']"
      ]
     },
     "execution_count": 272,
     "metadata": {},
     "output_type": "execute_result"
    }
   ],
   "source": [
    "from sklearn.externals import joblib\n",
    "joblib.dump(rfc, 'rfc_avocado_region.pkl')"
   ]
  },
  {
   "cell_type": "markdown",
   "metadata": {},
   "source": [
    "# Finding out the Predictions for AveragePrice"
   ]
  },
  {
   "cell_type": "code",
   "execution_count": 247,
   "metadata": {},
   "outputs": [
    {
     "data": {
      "text/plain": [
       "AveragePrice   -0.109444\n",
       "Total Volume    0.383704\n",
       "4046           -0.160268\n",
       "4225            0.184436\n",
       "4770           -0.355508\n",
       "Total Bags      0.274385\n",
       "Small Bags      0.323187\n",
       "Large Bags     -0.912766\n",
       "XLarge Bags     0.227093\n",
       "type            0.000000\n",
       "year            1.828332\n",
       "region          0.288146\n",
       "Month           0.101439\n",
       "Day             0.041303\n",
       "dtype: float64"
      ]
     },
     "execution_count": 247,
     "metadata": {},
     "output_type": "execute_result"
    }
   ],
   "source": [
    "df1.skew()"
   ]
  },
  {
   "cell_type": "code",
   "execution_count": 248,
   "metadata": {},
   "outputs": [
    {
     "data": {
      "text/html": [
       "<div>\n",
       "<style scoped>\n",
       "    .dataframe tbody tr th:only-of-type {\n",
       "        vertical-align: middle;\n",
       "    }\n",
       "\n",
       "    .dataframe tbody tr th {\n",
       "        vertical-align: top;\n",
       "    }\n",
       "\n",
       "    .dataframe thead th {\n",
       "        text-align: right;\n",
       "    }\n",
       "</style>\n",
       "<table border=\"1\" class=\"dataframe\">\n",
       "  <thead>\n",
       "    <tr style=\"text-align: right;\">\n",
       "      <th></th>\n",
       "      <th>Total Volume</th>\n",
       "      <th>4046</th>\n",
       "      <th>4225</th>\n",
       "      <th>4770</th>\n",
       "      <th>Total Bags</th>\n",
       "      <th>Small Bags</th>\n",
       "      <th>Large Bags</th>\n",
       "      <th>XLarge Bags</th>\n",
       "      <th>type</th>\n",
       "      <th>year</th>\n",
       "      <th>region</th>\n",
       "      <th>Month</th>\n",
       "      <th>Day</th>\n",
       "    </tr>\n",
       "  </thead>\n",
       "  <tbody>\n",
       "    <tr>\n",
       "      <th>0</th>\n",
       "      <td>1.250117</td>\n",
       "      <td>6.944801</td>\n",
       "      <td>10.905146</td>\n",
       "      <td>3.895080</td>\n",
       "      <td>1.196840</td>\n",
       "      <td>1.196517</td>\n",
       "      <td>4.545951</td>\n",
       "      <td>0.0</td>\n",
       "      <td>0</td>\n",
       "      <td>1.148289</td>\n",
       "      <td>0</td>\n",
       "      <td>12</td>\n",
       "      <td>27</td>\n",
       "    </tr>\n",
       "    <tr>\n",
       "      <th>1</th>\n",
       "      <td>1.246348</td>\n",
       "      <td>6.515127</td>\n",
       "      <td>10.706381</td>\n",
       "      <td>4.083115</td>\n",
       "      <td>1.199493</td>\n",
       "      <td>1.199187</td>\n",
       "      <td>4.589955</td>\n",
       "      <td>0.0</td>\n",
       "      <td>0</td>\n",
       "      <td>1.148289</td>\n",
       "      <td>0</td>\n",
       "      <td>12</td>\n",
       "      <td>20</td>\n",
       "    </tr>\n",
       "    <tr>\n",
       "      <th>2</th>\n",
       "      <td>1.264141</td>\n",
       "      <td>6.679222</td>\n",
       "      <td>11.600485</td>\n",
       "      <td>4.879007</td>\n",
       "      <td>1.194867</td>\n",
       "      <td>1.194481</td>\n",
       "      <td>4.645736</td>\n",
       "      <td>0.0</td>\n",
       "      <td>0</td>\n",
       "      <td>1.148289</td>\n",
       "      <td>0</td>\n",
       "      <td>12</td>\n",
       "      <td>13</td>\n",
       "    </tr>\n",
       "    <tr>\n",
       "      <th>3</th>\n",
       "      <td>1.254971</td>\n",
       "      <td>7.032624</td>\n",
       "      <td>11.184108</td>\n",
       "      <td>4.298373</td>\n",
       "      <td>1.184420</td>\n",
       "      <td>1.183682</td>\n",
       "      <td>4.903495</td>\n",
       "      <td>0.0</td>\n",
       "      <td>0</td>\n",
       "      <td>1.148289</td>\n",
       "      <td>0</td>\n",
       "      <td>6</td>\n",
       "      <td>12</td>\n",
       "    </tr>\n",
       "    <tr>\n",
       "      <th>4</th>\n",
       "      <td>1.244591</td>\n",
       "      <td>6.848515</td>\n",
       "      <td>10.688288</td>\n",
       "      <td>4.340944</td>\n",
       "      <td>1.186379</td>\n",
       "      <td>1.185358</td>\n",
       "      <td>5.291746</td>\n",
       "      <td>0.0</td>\n",
       "      <td>0</td>\n",
       "      <td>1.148289</td>\n",
       "      <td>0</td>\n",
       "      <td>11</td>\n",
       "      <td>29</td>\n",
       "    </tr>\n",
       "  </tbody>\n",
       "</table>\n",
       "</div>"
      ],
      "text/plain": [
       "   Total Volume      4046       4225      4770  Total Bags  Small Bags  \\\n",
       "0      1.250117  6.944801  10.905146  3.895080    1.196840    1.196517   \n",
       "1      1.246348  6.515127  10.706381  4.083115    1.199493    1.199187   \n",
       "2      1.264141  6.679222  11.600485  4.879007    1.194867    1.194481   \n",
       "3      1.254971  7.032624  11.184108  4.298373    1.184420    1.183682   \n",
       "4      1.244591  6.848515  10.688288  4.340944    1.186379    1.185358   \n",
       "\n",
       "   Large Bags  XLarge Bags  type      year  region  Month  Day  \n",
       "0    4.545951          0.0     0  1.148289       0     12   27  \n",
       "1    4.589955          0.0     0  1.148289       0     12   20  \n",
       "2    4.645736          0.0     0  1.148289       0     12   13  \n",
       "3    4.903495          0.0     0  1.148289       0      6   12  \n",
       "4    5.291746          0.0     0  1.148289       0     11   29  "
      ]
     },
     "execution_count": 248,
     "metadata": {},
     "output_type": "execute_result"
    }
   ],
   "source": [
    "x=df1.drop('AveragePrice',axis=1)\n",
    "x.head() "
   ]
  },
  {
   "cell_type": "code",
   "execution_count": 249,
   "metadata": {},
   "outputs": [
    {
     "data": {
      "text/html": [
       "<div>\n",
       "<style scoped>\n",
       "    .dataframe tbody tr th:only-of-type {\n",
       "        vertical-align: middle;\n",
       "    }\n",
       "\n",
       "    .dataframe tbody tr th {\n",
       "        vertical-align: top;\n",
       "    }\n",
       "\n",
       "    .dataframe thead th {\n",
       "        text-align: right;\n",
       "    }\n",
       "</style>\n",
       "<table border=\"1\" class=\"dataframe\">\n",
       "  <thead>\n",
       "    <tr style=\"text-align: right;\">\n",
       "      <th></th>\n",
       "      <th>AveragePrice</th>\n",
       "    </tr>\n",
       "  </thead>\n",
       "  <tbody>\n",
       "    <tr>\n",
       "      <th>0</th>\n",
       "      <td>1.33</td>\n",
       "    </tr>\n",
       "    <tr>\n",
       "      <th>1</th>\n",
       "      <td>1.35</td>\n",
       "    </tr>\n",
       "    <tr>\n",
       "      <th>2</th>\n",
       "      <td>0.93</td>\n",
       "    </tr>\n",
       "    <tr>\n",
       "      <th>3</th>\n",
       "      <td>1.08</td>\n",
       "    </tr>\n",
       "    <tr>\n",
       "      <th>4</th>\n",
       "      <td>1.28</td>\n",
       "    </tr>\n",
       "  </tbody>\n",
       "</table>\n",
       "</div>"
      ],
      "text/plain": [
       "   AveragePrice\n",
       "0          1.33\n",
       "1          1.35\n",
       "2          0.93\n",
       "3          1.08\n",
       "4          1.28"
      ]
     },
     "execution_count": 249,
     "metadata": {},
     "output_type": "execute_result"
    }
   ],
   "source": [
    "y=pd.DataFrame(df1.AveragePrice)\n",
    "y.head()"
   ]
  },
  {
   "cell_type": "code",
   "execution_count": 250,
   "metadata": {},
   "outputs": [],
   "source": [
    "from sklearn.metrics import mean_absolute_error\n",
    "from sklearn.metrics import mean_squared_error\n",
    "from sklearn.metrics import r2_score\n",
    "from sklearn.model_selection import train_test_split\n",
    "def maxr2_score(regr,x,y):\n",
    "    max_r_score=0\n",
    "    for r_state in range(42,100):\n",
    "        x_train, x_test, y_train, y_test = train_test_split(x,y,random_state = r_state,test_size=0.20)\n",
    "        regr.fit(x_train,y_train)\n",
    "        y_pred = regr.predict(x_test)\n",
    "        r2_scr=r2_score(y_test,y_pred)\n",
    "        print(\"r2 score corresponding to \",r_state,\"is\",r2_scr)\n",
    "        if r2_scr>max_r_score:\n",
    "            max_r_score=r2_scr\n",
    "            final_r_state=r_state\n",
    "    print(\"max r2 score corresponding to \",final_r_state,\"is\",max_r_score)\n",
    "    return final_r_state         "
   ]
  },
  {
   "cell_type": "code",
   "execution_count": 251,
   "metadata": {},
   "outputs": [
    {
     "name": "stdout",
     "output_type": "stream",
     "text": [
      "r2 score corresponding to  42 is 0.37396272101838\n",
      "r2 score corresponding to  43 is 0.4183175846866435\n",
      "r2 score corresponding to  44 is 0.3503095077356313\n",
      "r2 score corresponding to  45 is 0.3225048386250554\n",
      "r2 score corresponding to  46 is 0.39270876773774877\n",
      "r2 score corresponding to  47 is 0.3670291218511085\n",
      "r2 score corresponding to  48 is 0.37240584412414046\n",
      "r2 score corresponding to  49 is 0.34913841322732164\n",
      "r2 score corresponding to  50 is 0.3194031230265827\n",
      "r2 score corresponding to  51 is 0.3528907956859182\n",
      "r2 score corresponding to  52 is 0.3536131413364664\n",
      "r2 score corresponding to  53 is 0.37673311072297555\n",
      "r2 score corresponding to  54 is 0.4146955480373604\n",
      "r2 score corresponding to  55 is 0.4258869633025577\n",
      "r2 score corresponding to  56 is 0.23199743896448755\n",
      "r2 score corresponding to  57 is 0.349582206458635\n",
      "r2 score corresponding to  58 is 0.29771431154708117\n",
      "r2 score corresponding to  59 is 0.385743104803977\n",
      "r2 score corresponding to  60 is 0.4036215112359931\n",
      "r2 score corresponding to  61 is 0.342281109566692\n",
      "r2 score corresponding to  62 is 0.30567105529256977\n",
      "r2 score corresponding to  63 is 0.37495940067601086\n",
      "r2 score corresponding to  64 is 0.4016196106876331\n",
      "r2 score corresponding to  65 is 0.3052902405854392\n",
      "r2 score corresponding to  66 is 0.3619023691673192\n",
      "r2 score corresponding to  67 is 0.3634303634673316\n",
      "r2 score corresponding to  68 is 0.3795347402043008\n",
      "r2 score corresponding to  69 is 0.3067470690636034\n",
      "r2 score corresponding to  70 is 0.3407464019492005\n",
      "r2 score corresponding to  71 is 0.37887114904766883\n",
      "r2 score corresponding to  72 is 0.2858836432847066\n",
      "r2 score corresponding to  73 is 0.37788318342556715\n",
      "r2 score corresponding to  74 is 0.4057889055032098\n",
      "r2 score corresponding to  75 is 0.38506708702016423\n",
      "r2 score corresponding to  76 is 0.40748030267216717\n",
      "r2 score corresponding to  77 is 0.26330266930405755\n",
      "r2 score corresponding to  78 is 0.3749138453273887\n",
      "r2 score corresponding to  79 is 0.3670849373216091\n",
      "r2 score corresponding to  80 is 0.3990501537936645\n",
      "r2 score corresponding to  81 is 0.3640265943141452\n",
      "r2 score corresponding to  82 is 0.45776429690927367\n",
      "r2 score corresponding to  83 is 0.28310899085302055\n",
      "r2 score corresponding to  84 is 0.4419361125875163\n",
      "r2 score corresponding to  85 is 0.39236710523728935\n",
      "r2 score corresponding to  86 is 0.3099339216232663\n",
      "r2 score corresponding to  87 is 0.39780623595570885\n",
      "r2 score corresponding to  88 is 0.29677110808175877\n",
      "r2 score corresponding to  89 is 0.46203744587498585\n",
      "r2 score corresponding to  90 is 0.2823006109830093\n",
      "r2 score corresponding to  91 is 0.40637508914821685\n",
      "r2 score corresponding to  92 is 0.40307415387366374\n",
      "r2 score corresponding to  93 is 0.39338720720334774\n",
      "r2 score corresponding to  94 is 0.35392965464640946\n",
      "r2 score corresponding to  95 is 0.4047254862082613\n",
      "r2 score corresponding to  96 is 0.36174088667571724\n",
      "r2 score corresponding to  97 is 0.3140705242690327\n",
      "r2 score corresponding to  98 is 0.32673469844039293\n",
      "r2 score corresponding to  99 is 0.4117999917721826\n",
      "max r2 score corresponding to  89 is 0.46203744587498585\n"
     ]
    }
   ],
   "source": [
    "from sklearn.linear_model import LinearRegression\n",
    "lreg=LinearRegression()\n",
    "r_state=maxr2_score(lreg,x,y)"
   ]
  },
  {
   "cell_type": "code",
   "execution_count": 252,
   "metadata": {},
   "outputs": [
    {
     "data": {
      "text/plain": [
       "{'n_neighbors': 4}"
      ]
     },
     "execution_count": 252,
     "metadata": {},
     "output_type": "execute_result"
    }
   ],
   "source": [
    "from sklearn.model_selection import GridSearchCV\n",
    "from sklearn.neighbors import KNeighborsRegressor\n",
    "neighbors={\"n_neighbors\":range(1,5)}\n",
    "knr=KNeighborsRegressor()\n",
    "gknr = GridSearchCV(knr, neighbors, cv=5)\n",
    "gknr.fit(x,y) \n",
    "gknr.best_params_"
   ]
  },
  {
   "cell_type": "code",
   "execution_count": 253,
   "metadata": {},
   "outputs": [
    {
     "name": "stdout",
     "output_type": "stream",
     "text": [
      "r2 score corresponding to  42 is 0.5409187639896347\n",
      "r2 score corresponding to  43 is 0.5577660033836063\n",
      "r2 score corresponding to  44 is 0.5532029713174629\n",
      "r2 score corresponding to  45 is 0.5644909345926823\n",
      "r2 score corresponding to  46 is 0.5718409708111412\n",
      "r2 score corresponding to  47 is 0.6019886223228861\n",
      "r2 score corresponding to  48 is 0.4781727403344823\n",
      "r2 score corresponding to  49 is 0.48344134881401424\n",
      "r2 score corresponding to  50 is 0.513671613558176\n",
      "r2 score corresponding to  51 is 0.513930768559351\n",
      "r2 score corresponding to  52 is 0.5481981502953744\n",
      "r2 score corresponding to  53 is 0.5652527006928434\n",
      "r2 score corresponding to  54 is 0.5816458448031483\n",
      "r2 score corresponding to  55 is 0.6104646310676776\n",
      "r2 score corresponding to  56 is 0.4763485450428673\n",
      "r2 score corresponding to  57 is 0.5815168212877173\n",
      "r2 score corresponding to  58 is 0.4616705969691105\n",
      "r2 score corresponding to  59 is 0.5910844705749195\n",
      "r2 score corresponding to  60 is 0.5951679016525669\n",
      "r2 score corresponding to  61 is 0.48409880887332435\n",
      "r2 score corresponding to  62 is 0.5176082393177932\n",
      "r2 score corresponding to  63 is 0.5663180118638553\n",
      "r2 score corresponding to  64 is 0.5916408205121144\n",
      "r2 score corresponding to  65 is 0.48686071958014965\n",
      "r2 score corresponding to  66 is 0.557764491619551\n",
      "r2 score corresponding to  67 is 0.5418183215990342\n",
      "r2 score corresponding to  68 is 0.5474985427509127\n",
      "r2 score corresponding to  69 is 0.4919339233450315\n",
      "r2 score corresponding to  70 is 0.5512740070786122\n",
      "r2 score corresponding to  71 is 0.5500739583042922\n",
      "r2 score corresponding to  72 is 0.534354483981181\n",
      "r2 score corresponding to  73 is 0.5892062277256703\n",
      "r2 score corresponding to  74 is 0.604878683119564\n",
      "r2 score corresponding to  75 is 0.61289167864228\n",
      "r2 score corresponding to  76 is 0.5256611935046427\n",
      "r2 score corresponding to  77 is 0.4769771516773592\n",
      "r2 score corresponding to  78 is 0.571382516968165\n",
      "r2 score corresponding to  79 is 0.529943624637002\n",
      "r2 score corresponding to  80 is 0.572987244081562\n",
      "r2 score corresponding to  81 is 0.4813095684218396\n",
      "r2 score corresponding to  82 is 0.6139768678650718\n",
      "r2 score corresponding to  83 is 0.4352780159416033\n",
      "r2 score corresponding to  84 is 0.5459001958669312\n",
      "r2 score corresponding to  85 is 0.49605839577124766\n",
      "r2 score corresponding to  86 is 0.5238745559102087\n",
      "r2 score corresponding to  87 is 0.6378929585215268\n",
      "r2 score corresponding to  88 is 0.4998083841247043\n",
      "r2 score corresponding to  89 is 0.5684202678845451\n",
      "r2 score corresponding to  90 is 0.5281654918614693\n",
      "r2 score corresponding to  91 is 0.5629624952822149\n",
      "r2 score corresponding to  92 is 0.5931401121489984\n",
      "r2 score corresponding to  93 is 0.5914321854952469\n",
      "r2 score corresponding to  94 is 0.5413860588481245\n",
      "r2 score corresponding to  95 is 0.5512253221368321\n",
      "r2 score corresponding to  96 is 0.5184138958592572\n",
      "r2 score corresponding to  97 is 0.5114384916036983\n",
      "r2 score corresponding to  98 is 0.5679358807360668\n",
      "r2 score corresponding to  99 is 0.5401893853877171\n",
      "max r2 score corresponding to  87 is 0.6378929585215268\n"
     ]
    }
   ],
   "source": [
    "knr=KNeighborsRegressor(n_neighbors=3) \n",
    "r_state=maxr2_score(knr,x,y) "
   ]
  },
  {
   "cell_type": "code",
   "execution_count": 254,
   "metadata": {},
   "outputs": [
    {
     "name": "stdout",
     "output_type": "stream",
     "text": [
      "Mean r2 score for Linear Regression:  0.1116121144193353\n",
      "Standard Deviation in r2 score for Linear Regression:  0.12253652486906598\n",
      "\n",
      "Mean r2 score for KNN Regression:  -0.5607614527752307\n",
      "Standard Deviation in r2 score for KNN Regression:  0.6706047517704772\n"
     ]
    }
   ],
   "source": [
    "from sklearn.model_selection import cross_val_score \n",
    "print('Mean r2 score for Linear Regression: ',cross_val_score(lreg,x,y,cv=5,scoring='r2').mean()) \n",
    "print('Standard Deviation in r2 score for Linear Regression: ',cross_val_score(lreg,x,y,cv=5,scoring='r2').std())\n",
    "print()\n",
    "print('Mean r2 score for KNN Regression: ',cross_val_score(knr,x,y,cv=5,scoring='r2').mean())\n",
    "print('Standard Deviation in r2 score for KNN Regression: ',cross_val_score(knr,x,y,cv=5,scoring='r2').std())"
   ]
  },
  {
   "cell_type": "code",
   "execution_count": 255,
   "metadata": {},
   "outputs": [
    {
     "data": {
      "text/plain": [
       "{'alpha': 0.1}"
      ]
     },
     "execution_count": 255,
     "metadata": {},
     "output_type": "execute_result"
    }
   ],
   "source": [
    "from sklearn.linear_model import Lasso\n",
    "lsreg=Lasso()\n",
    "parameters={\"alpha\":[0.001,0.01,0.1,1]}\n",
    "g_lsreg = GridSearchCV(lsreg, parameters, cv=5)\n",
    "g_lsreg.fit(x,y)\n",
    "g_lsreg.best_params_"
   ]
  },
  {
   "cell_type": "code",
   "execution_count": 256,
   "metadata": {},
   "outputs": [
    {
     "name": "stdout",
     "output_type": "stream",
     "text": [
      "r2 score corresponding to  42 is 0.2982171979903727\n",
      "r2 score corresponding to  43 is 0.3253386749262772\n",
      "r2 score corresponding to  44 is 0.23278788339184553\n",
      "r2 score corresponding to  45 is 0.2315501985782824\n",
      "r2 score corresponding to  46 is 0.3206297398715493\n",
      "r2 score corresponding to  47 is 0.28137265290977087\n",
      "r2 score corresponding to  48 is 0.23398958910696221\n",
      "r2 score corresponding to  49 is 0.2653942271354153\n",
      "r2 score corresponding to  50 is 0.3098550437380818\n",
      "r2 score corresponding to  51 is 0.2712539039873436\n",
      "r2 score corresponding to  52 is 0.2750624281766322\n",
      "r2 score corresponding to  53 is 0.28983043194804536\n",
      "r2 score corresponding to  54 is 0.273876499340599\n",
      "r2 score corresponding to  55 is 0.29877402748682325\n",
      "r2 score corresponding to  56 is 0.21763941043314683\n",
      "r2 score corresponding to  57 is 0.2558106373181862\n",
      "r2 score corresponding to  58 is 0.21478978577608\n",
      "r2 score corresponding to  59 is 0.3024817685686514\n",
      "r2 score corresponding to  60 is 0.27708362669704933\n",
      "r2 score corresponding to  61 is 0.22729876829229279\n",
      "r2 score corresponding to  62 is 0.18126556760014823\n",
      "r2 score corresponding to  63 is 0.2463796379500086\n",
      "r2 score corresponding to  64 is 0.2571503296312678\n",
      "r2 score corresponding to  65 is 0.24305798052313354\n",
      "r2 score corresponding to  66 is 0.2530308994122512\n",
      "r2 score corresponding to  67 is 0.2781897534500022\n",
      "r2 score corresponding to  68 is 0.2722075664212792\n",
      "r2 score corresponding to  69 is 0.2084552290910907\n",
      "r2 score corresponding to  70 is 0.2678049175650904\n",
      "r2 score corresponding to  71 is 0.26682183737695486\n",
      "r2 score corresponding to  72 is 0.28364365722989415\n",
      "r2 score corresponding to  73 is 0.34040854428557965\n",
      "r2 score corresponding to  74 is 0.32082177461082806\n",
      "r2 score corresponding to  75 is 0.29611120065947627\n",
      "r2 score corresponding to  76 is 0.2626752081642195\n",
      "r2 score corresponding to  77 is 0.21398744052334295\n",
      "r2 score corresponding to  78 is 0.2795782399745472\n",
      "r2 score corresponding to  79 is 0.2493391435221286\n",
      "r2 score corresponding to  80 is 0.31783778159285203\n",
      "r2 score corresponding to  81 is 0.29481187319906255\n",
      "r2 score corresponding to  82 is 0.3080585121956324\n",
      "r2 score corresponding to  83 is 0.26137948910042985\n",
      "r2 score corresponding to  84 is 0.31854674184205634\n",
      "r2 score corresponding to  85 is 0.3234746621997475\n",
      "r2 score corresponding to  86 is 0.23441813707479553\n",
      "r2 score corresponding to  87 is 0.3112941792129592\n",
      "r2 score corresponding to  88 is 0.2557338293211169\n",
      "r2 score corresponding to  89 is 0.3079130673468887\n",
      "r2 score corresponding to  90 is 0.21777268200976907\n",
      "r2 score corresponding to  91 is 0.2790104168768921\n",
      "r2 score corresponding to  92 is 0.3045834232310777\n",
      "r2 score corresponding to  93 is 0.3092808348620558\n",
      "r2 score corresponding to  94 is 0.31213330221936275\n",
      "r2 score corresponding to  95 is 0.31015932833873316\n",
      "r2 score corresponding to  96 is 0.2349027272218901\n",
      "r2 score corresponding to  97 is 0.24960539855928254\n",
      "r2 score corresponding to  98 is 0.2076441872132776\n",
      "r2 score corresponding to  99 is 0.33268877694618093\n",
      "max r2 score corresponding to  73 is 0.34040854428557965\n"
     ]
    }
   ],
   "source": [
    "lsreg=Lasso(alpha=0.01)\n",
    "r_state=maxr2_score(lsreg,x,y)"
   ]
  },
  {
   "cell_type": "code",
   "execution_count": 257,
   "metadata": {},
   "outputs": [
    {
     "name": "stdout",
     "output_type": "stream",
     "text": [
      "Mean r2 score for Lasso Regression:  0.04900339055192093\n",
      "Standard Deviation in r2 score for Lasso Regression:  0.158582539304926\n"
     ]
    }
   ],
   "source": [
    "print('Mean r2 score for Lasso Regression: ',cross_val_score(lsreg,x,y,cv=5,scoring='r2').mean()) \n",
    "print('Standard Deviation in r2 score for Lasso Regression: ',cross_val_score(lsreg,x,y,cv=5,scoring='r2').std()) "
   ]
  },
  {
   "cell_type": "code",
   "execution_count": 258,
   "metadata": {},
   "outputs": [
    {
     "data": {
      "text/plain": [
       "{'alpha': 0.0001}"
      ]
     },
     "execution_count": 258,
     "metadata": {},
     "output_type": "execute_result"
    }
   ],
   "source": [
    "from sklearn.linear_model import Ridge\n",
    "rireg=Ridge()\n",
    "parameters={\"alpha\":[0.0001,0.001,0.01,0.1,1]}\n",
    "g_rireg = GridSearchCV(rireg, parameters, cv=5)\n",
    "g_rireg.fit(x,y)\n",
    "g_rireg.best_params_"
   ]
  },
  {
   "cell_type": "code",
   "execution_count": 259,
   "metadata": {},
   "outputs": [
    {
     "name": "stdout",
     "output_type": "stream",
     "text": [
      "r2 score corresponding to  42 is 0.31197240338128984\n",
      "r2 score corresponding to  43 is 0.3502337878120477\n",
      "r2 score corresponding to  44 is 0.2430662499767966\n",
      "r2 score corresponding to  45 is 0.2321409636951831\n",
      "r2 score corresponding to  46 is 0.3274549272826548\n",
      "r2 score corresponding to  47 is 0.30716753614736225\n",
      "r2 score corresponding to  48 is 0.25127981798661614\n",
      "r2 score corresponding to  49 is 0.27808361355694866\n",
      "r2 score corresponding to  50 is 0.31785357494572863\n",
      "r2 score corresponding to  51 is 0.28489201581538615\n",
      "r2 score corresponding to  52 is 0.29671076993260825\n",
      "r2 score corresponding to  53 is 0.3099042008843369\n",
      "r2 score corresponding to  54 is 0.29259244117329464\n",
      "r2 score corresponding to  55 is 0.30671046161121895\n",
      "r2 score corresponding to  56 is 0.2307210299034228\n",
      "r2 score corresponding to  57 is 0.28046856505861995\n",
      "r2 score corresponding to  58 is 0.2275449250332181\n",
      "r2 score corresponding to  59 is 0.3189570550623243\n",
      "r2 score corresponding to  60 is 0.2994602152240019\n",
      "r2 score corresponding to  61 is 0.25007082672441205\n",
      "r2 score corresponding to  62 is 0.2004905951385313\n",
      "r2 score corresponding to  63 is 0.2621550582425406\n",
      "r2 score corresponding to  64 is 0.27905189002340935\n",
      "r2 score corresponding to  65 is 0.25589357659269596\n",
      "r2 score corresponding to  66 is 0.2680443414423509\n",
      "r2 score corresponding to  67 is 0.3011706029612021\n",
      "r2 score corresponding to  68 is 0.2851125419088797\n",
      "r2 score corresponding to  69 is 0.22230576692060833\n",
      "r2 score corresponding to  70 is 0.27677975338269745\n",
      "r2 score corresponding to  71 is 0.28619550686858175\n",
      "r2 score corresponding to  72 is 0.3035341012269068\n",
      "r2 score corresponding to  73 is 0.3648541197823958\n",
      "r2 score corresponding to  74 is 0.34503668205286053\n",
      "r2 score corresponding to  75 is 0.31717654167977116\n",
      "r2 score corresponding to  76 is 0.27557382141780806\n",
      "r2 score corresponding to  77 is 0.22463157417851665\n",
      "r2 score corresponding to  78 is 0.2918753658359141\n",
      "r2 score corresponding to  79 is 0.2696068937568201\n",
      "r2 score corresponding to  80 is 0.32478739614558505\n",
      "r2 score corresponding to  81 is 0.3089472688794783\n",
      "r2 score corresponding to  82 is 0.33016831368828714\n",
      "r2 score corresponding to  83 is 0.27988175526077586\n",
      "r2 score corresponding to  84 is 0.3487845510876141\n",
      "r2 score corresponding to  85 is 0.3335247023253757\n",
      "r2 score corresponding to  86 is 0.23744668675681513\n",
      "r2 score corresponding to  87 is 0.3376112017535511\n",
      "r2 score corresponding to  88 is 0.28184702366464287\n",
      "r2 score corresponding to  89 is 0.33685473596137394\n",
      "r2 score corresponding to  90 is 0.21741825121382263\n",
      "r2 score corresponding to  91 is 0.2970947494780042\n",
      "r2 score corresponding to  92 is 0.33477477147683854\n",
      "r2 score corresponding to  93 is 0.3256114933721167\n",
      "r2 score corresponding to  94 is 0.33008462564774277\n",
      "r2 score corresponding to  95 is 0.31479299359811264\n",
      "r2 score corresponding to  96 is 0.26052236602022427\n",
      "r2 score corresponding to  97 is 0.2696896718787516\n",
      "r2 score corresponding to  98 is 0.20931238359227866\n",
      "r2 score corresponding to  99 is 0.36682729683590676\n",
      "max r2 score corresponding to  99 is 0.36682729683590676\n"
     ]
    }
   ],
   "source": [
    "rireg=Ridge(alpha=1)\n",
    "r_state=maxr2_score(rireg,x,y) "
   ]
  },
  {
   "cell_type": "code",
   "execution_count": 260,
   "metadata": {},
   "outputs": [
    {
     "name": "stdout",
     "output_type": "stream",
     "text": [
      "Mean r2 score for Ridge Regression:  0.011091994182776843\n",
      "Standard Deviation in r2 score for Ridge Regression:  0.1831226979798408\n"
     ]
    }
   ],
   "source": [
    "print('Mean r2 score for Ridge Regression: ',cross_val_score(rireg,x,y,cv=5,scoring='r2').mean()) \n",
    "print('Standard Deviation in r2 score for Ridge Regression: ',cross_val_score(rireg,x,y,cv=5,scoring='r2').std()) "
   ]
  },
  {
   "cell_type": "code",
   "execution_count": 261,
   "metadata": {},
   "outputs": [
    {
     "data": {
      "text/plain": [
       "{'alpha': 0.1}"
      ]
     },
     "execution_count": 261,
     "metadata": {},
     "output_type": "execute_result"
    }
   ],
   "source": [
    "from sklearn.model_selection import GridSearchCV\n",
    "from sklearn.linear_model import ElasticNet\n",
    "enr=ElasticNet()\n",
    "parameters={\"alpha\":[0.001,0.01,0.1,1]} \n",
    "g_enr = GridSearchCV(enr, parameters, cv=5)\n",
    "g_enr.fit(x,y)\n",
    "g_enr.best_params_"
   ]
  },
  {
   "cell_type": "code",
   "execution_count": 262,
   "metadata": {},
   "outputs": [
    {
     "name": "stdout",
     "output_type": "stream",
     "text": [
      "r2 score corresponding to  42 is 0.26145386397992587\n",
      "r2 score corresponding to  43 is 0.27673997289930186\n",
      "r2 score corresponding to  44 is 0.23183008423328133\n",
      "r2 score corresponding to  45 is 0.22108725448248445\n",
      "r2 score corresponding to  46 is 0.2943709026799304\n",
      "r2 score corresponding to  47 is 0.2532676141927007\n",
      "r2 score corresponding to  48 is 0.2264395631215227\n",
      "r2 score corresponding to  49 is 0.24407187614785597\n",
      "r2 score corresponding to  50 is 0.27663336722822185\n",
      "r2 score corresponding to  51 is 0.24244631767638702\n",
      "r2 score corresponding to  52 is 0.24284809405652164\n",
      "r2 score corresponding to  53 is 0.2557742989482741\n",
      "r2 score corresponding to  54 is 0.24783767597779538\n",
      "r2 score corresponding to  55 is 0.2692794078202172\n",
      "r2 score corresponding to  56 is 0.21490526406953647\n",
      "r2 score corresponding to  57 is 0.22764439438707718\n",
      "r2 score corresponding to  58 is 0.20536040837776226\n",
      "r2 score corresponding to  59 is 0.27386527726600474\n",
      "r2 score corresponding to  60 is 0.25801769558849097\n",
      "r2 score corresponding to  61 is 0.21857286238815266\n",
      "r2 score corresponding to  62 is 0.1778369725430895\n",
      "r2 score corresponding to  63 is 0.2371751834714726\n",
      "r2 score corresponding to  64 is 0.24548775594323524\n",
      "r2 score corresponding to  65 is 0.22624129211428845\n",
      "r2 score corresponding to  66 is 0.22807312899320076\n",
      "r2 score corresponding to  67 is 0.25846565302438707\n",
      "r2 score corresponding to  68 is 0.25711875373271154\n",
      "r2 score corresponding to  69 is 0.20760608005499503\n",
      "r2 score corresponding to  70 is 0.23893691818483465\n",
      "r2 score corresponding to  71 is 0.2488593618143451\n",
      "r2 score corresponding to  72 is 0.24370049456418197\n",
      "r2 score corresponding to  73 is 0.29208427608387133\n",
      "r2 score corresponding to  74 is 0.277197475217034\n",
      "r2 score corresponding to  75 is 0.25675399457875014\n",
      "r2 score corresponding to  76 is 0.24519446609501871\n",
      "r2 score corresponding to  77 is 0.19682793918893693\n",
      "r2 score corresponding to  78 is 0.2628672349842762\n",
      "r2 score corresponding to  79 is 0.23569750415005786\n",
      "r2 score corresponding to  80 is 0.29364015883634853\n",
      "r2 score corresponding to  81 is 0.28102845278331856\n",
      "r2 score corresponding to  82 is 0.28296274899371254\n",
      "r2 score corresponding to  83 is 0.23631111882313904\n",
      "r2 score corresponding to  84 is 0.2796951918727565\n",
      "r2 score corresponding to  85 is 0.2765055399374392\n",
      "r2 score corresponding to  86 is 0.2297737239486548\n",
      "r2 score corresponding to  87 is 0.267826706445205\n",
      "r2 score corresponding to  88 is 0.2258604720962264\n",
      "r2 score corresponding to  89 is 0.28215570436480486\n",
      "r2 score corresponding to  90 is 0.21351377747287004\n",
      "r2 score corresponding to  91 is 0.24772713502270416\n",
      "r2 score corresponding to  92 is 0.2668924613861108\n",
      "r2 score corresponding to  93 is 0.26989896139548886\n",
      "r2 score corresponding to  94 is 0.26444704863822033\n",
      "r2 score corresponding to  95 is 0.27664122623194154\n",
      "r2 score corresponding to  96 is 0.21707765310289762\n",
      "r2 score corresponding to  97 is 0.2228454378002227\n",
      "r2 score corresponding to  98 is 0.2289452994653517\n",
      "r2 score corresponding to  99 is 0.28870841492536736\n",
      "max r2 score corresponding to  46 is 0.2943709026799304\n"
     ]
    }
   ],
   "source": [
    "enr=ElasticNet(alpha=0.1)\n",
    "r_state=maxr2_score(enr,x,y) "
   ]
  },
  {
   "cell_type": "code",
   "execution_count": 263,
   "metadata": {},
   "outputs": [
    {
     "name": "stdout",
     "output_type": "stream",
     "text": [
      "Mean r2 score for ElasticNet Regression:  0.1334718373557471\n",
      "Standard Deviation in r2 score for ElasticNet Regression:  0.0767497677910417\n"
     ]
    }
   ],
   "source": [
    "print('Mean r2 score for ElasticNet Regression: ',cross_val_score(enr,x,y,cv=5,scoring='r2').mean()) \n",
    "print('Standard Deviation in r2 score for ElasticNet Regression: ',cross_val_score(enr,x,y,cv=5,scoring='r2').std()) "
   ]
  },
  {
   "cell_type": "code",
   "execution_count": null,
   "metadata": {},
   "outputs": [],
   "source": []
  },
  {
   "cell_type": "code",
   "execution_count": null,
   "metadata": {},
   "outputs": [],
   "source": []
  },
  {
   "cell_type": "code",
   "execution_count": 265,
   "metadata": {},
   "outputs": [
    {
     "data": {
      "text/plain": [
       "{'criterion': 'mse', 'random_state': 0, 'splitter': 'random'}"
      ]
     },
     "execution_count": 265,
     "metadata": {},
     "output_type": "execute_result"
    }
   ],
   "source": [
    "from sklearn.model_selection import GridSearchCV\n",
    "from sklearn import tree\n",
    "from sklearn.tree import DecisionTreeRegressor\n",
    "dtr= DecisionTreeRegressor()\n",
    "parameters= {'criterion':['mse', 'mae'], 'splitter':['best','random'], 'random_state':[0,100]}\n",
    "gdtr = GridSearchCV(dtr, parameters, cv=5)\n",
    "gdtr.fit(x,y)\n",
    "gdtr.best_params_ "
   ]
  },
  {
   "cell_type": "code",
   "execution_count": 266,
   "metadata": {},
   "outputs": [
    {
     "name": "stdout",
     "output_type": "stream",
     "text": [
      "r2 score corresponding to  42 is 0.5857686014034033\n",
      "r2 score corresponding to  43 is 0.4151460853158686\n",
      "r2 score corresponding to  44 is 0.629892732906685\n",
      "r2 score corresponding to  45 is 0.6811357795729143\n",
      "r2 score corresponding to  46 is 0.5757082215970738\n",
      "r2 score corresponding to  47 is 0.6948049015854585\n",
      "r2 score corresponding to  48 is 0.6222406791925484\n",
      "r2 score corresponding to  49 is 0.6834166094023295\n",
      "r2 score corresponding to  50 is 0.6796665464873943\n",
      "r2 score corresponding to  51 is 0.750266339992228\n",
      "r2 score corresponding to  52 is 0.7102989590397668\n",
      "r2 score corresponding to  53 is 0.6705957770820575\n",
      "r2 score corresponding to  54 is 0.6670600877000344\n",
      "r2 score corresponding to  55 is 0.6849689432684389\n",
      "r2 score corresponding to  56 is 0.5312818573580483\n",
      "r2 score corresponding to  57 is 0.5858035628010728\n",
      "r2 score corresponding to  58 is 0.6305432149555747\n",
      "r2 score corresponding to  59 is 0.7082451060894057\n",
      "r2 score corresponding to  60 is 0.6540995961117619\n",
      "r2 score corresponding to  61 is 0.5657930066101733\n",
      "r2 score corresponding to  62 is 0.6911731323269537\n",
      "r2 score corresponding to  63 is 0.6474788177564114\n",
      "r2 score corresponding to  64 is 0.6260993152014119\n",
      "r2 score corresponding to  65 is 0.5092657820512615\n",
      "r2 score corresponding to  66 is 0.5869688937490343\n",
      "r2 score corresponding to  67 is 0.6201473712898102\n",
      "r2 score corresponding to  68 is 0.6444092453903763\n",
      "r2 score corresponding to  69 is 0.5285619510253211\n",
      "r2 score corresponding to  70 is 0.6643884845648285\n",
      "r2 score corresponding to  71 is 0.7029931087145861\n",
      "r2 score corresponding to  72 is 0.6220520340467048\n",
      "r2 score corresponding to  73 is 0.590714016905975\n",
      "r2 score corresponding to  74 is 0.6808239890851402\n",
      "r2 score corresponding to  75 is 0.6438069670424084\n",
      "r2 score corresponding to  76 is 0.53585620150171\n",
      "r2 score corresponding to  77 is 0.6805314653190923\n",
      "r2 score corresponding to  78 is 0.6353440451940724\n",
      "r2 score corresponding to  79 is 0.6563243111090002\n",
      "r2 score corresponding to  80 is 0.6373319029199296\n",
      "r2 score corresponding to  81 is 0.7117244573632022\n",
      "r2 score corresponding to  82 is 0.6289774596266288\n",
      "r2 score corresponding to  83 is 0.5101398984244294\n",
      "r2 score corresponding to  84 is 0.6551270620714624\n",
      "r2 score corresponding to  85 is 0.4778624106960784\n",
      "r2 score corresponding to  86 is 0.6456550582660172\n",
      "r2 score corresponding to  87 is 0.6825927221795887\n",
      "r2 score corresponding to  88 is 0.5585873277995895\n",
      "r2 score corresponding to  89 is 0.7458591143344977\n",
      "r2 score corresponding to  90 is 0.683678207159169\n",
      "r2 score corresponding to  91 is 0.6720881069822882\n",
      "r2 score corresponding to  92 is 0.7121121821421958\n",
      "r2 score corresponding to  93 is 0.6073630981211238\n",
      "r2 score corresponding to  94 is 0.554284062546915\n",
      "r2 score corresponding to  95 is 0.6984835250594454\n",
      "r2 score corresponding to  96 is 0.6182678472378185\n",
      "r2 score corresponding to  97 is 0.71073189756999\n",
      "r2 score corresponding to  98 is 0.45467009622491017\n",
      "r2 score corresponding to  99 is 0.6714569317487518\n",
      "max r2 score corresponding to  51 is 0.750266339992228\n"
     ]
    }
   ],
   "source": [
    "dtr=DecisionTreeRegressor(criterion='mae',random_state=0,splitter='random') \n",
    "r_state=maxr2_score(dtr,x,y)   "
   ]
  },
  {
   "cell_type": "code",
   "execution_count": 267,
   "metadata": {},
   "outputs": [
    {
     "name": "stdout",
     "output_type": "stream",
     "text": [
      "Mean r2 score for Decision Tree Regressor:  -0.800358251073947\n",
      "Standard Deviation in r2 score for Decision Tree Regressor:  1.0393350966237886\n"
     ]
    }
   ],
   "source": [
    "print('Mean r2 score for Decision Tree Regressor: ',cross_val_score(dtr,x,y,cv=5,scoring='r2').mean()) \n",
    "print('Standard Deviation in r2 score for Decision Tree Regressor: ',cross_val_score(dtr,x,y,cv=5,scoring='r2').std())  "
   ]
  },
  {
   "cell_type": "code",
   "execution_count": 268,
   "metadata": {},
   "outputs": [
    {
     "data": {
      "text/plain": [
       "{'criterion': 'mae', 'random_state': 100}"
      ]
     },
     "execution_count": 268,
     "metadata": {},
     "output_type": "execute_result"
    }
   ],
   "source": [
    "from sklearn.model_selection import GridSearchCV\n",
    "from sklearn import ensemble\n",
    "from sklearn.ensemble import RandomForestRegressor\n",
    "rfr= RandomForestRegressor()\n",
    "parameters= {'criterion':['mse', 'mae'], 'random_state':[0,100]} \n",
    "grfr = GridSearchCV(rfr, parameters, cv=5)\n",
    "grfr.fit(x,y)\n",
    "grfr.best_params_ "
   ]
  },
  {
   "cell_type": "code",
   "execution_count": 270,
   "metadata": {},
   "outputs": [
    {
     "name": "stdout",
     "output_type": "stream",
     "text": [
      "r2 score corresponding to  42 is 0.8028987520482909\n",
      "r2 score corresponding to  43 is 0.8344480680268684\n",
      "r2 score corresponding to  44 is 0.8066000759308292\n",
      "r2 score corresponding to  45 is 0.7890707115657493\n",
      "r2 score corresponding to  46 is 0.8160659070559815\n",
      "r2 score corresponding to  47 is 0.832106693533424\n",
      "r2 score corresponding to  48 is 0.8023341011626297\n",
      "r2 score corresponding to  49 is 0.79918932900575\n",
      "r2 score corresponding to  50 is 0.7789050352183894\n",
      "r2 score corresponding to  51 is 0.8013158340306827\n",
      "r2 score corresponding to  52 is 0.7801130215615577\n",
      "r2 score corresponding to  53 is 0.8060309373259439\n",
      "r2 score corresponding to  54 is 0.8031475702335705\n",
      "r2 score corresponding to  55 is 0.8209120701009585\n",
      "r2 score corresponding to  56 is 0.7548899960041866\n",
      "r2 score corresponding to  57 is 0.8036658220494168\n",
      "r2 score corresponding to  58 is 0.7854685322702857\n",
      "r2 score corresponding to  59 is 0.8015814980767213\n",
      "r2 score corresponding to  60 is 0.8504269352762268\n",
      "r2 score corresponding to  61 is 0.7725328065106079\n",
      "r2 score corresponding to  62 is 0.7900354979414816\n",
      "r2 score corresponding to  63 is 0.8116299431048783\n",
      "r2 score corresponding to  64 is 0.8049463957450472\n",
      "r2 score corresponding to  65 is 0.7774304905074211\n",
      "r2 score corresponding to  66 is 0.8344146707277934\n",
      "r2 score corresponding to  67 is 0.8217320350382334\n",
      "r2 score corresponding to  68 is 0.8346765641380796\n",
      "r2 score corresponding to  69 is 0.7799834582305555\n",
      "r2 score corresponding to  70 is 0.7723336058819275\n",
      "r2 score corresponding to  71 is 0.7897044071395212\n",
      "r2 score corresponding to  72 is 0.7395653675768203\n",
      "r2 score corresponding to  73 is 0.8141788980629776\n",
      "r2 score corresponding to  74 is 0.824944994658469\n",
      "r2 score corresponding to  75 is 0.8084324659015627\n",
      "r2 score corresponding to  76 is 0.7831198674243021\n",
      "r2 score corresponding to  77 is 0.7762110183768406\n",
      "r2 score corresponding to  78 is 0.7948210093455479\n",
      "r2 score corresponding to  79 is 0.7966593373395301\n",
      "r2 score corresponding to  80 is 0.7849154300803305\n",
      "r2 score corresponding to  81 is 0.7979276974689571\n",
      "r2 score corresponding to  82 is 0.8055829135300288\n",
      "r2 score corresponding to  83 is 0.7247435144193888\n",
      "r2 score corresponding to  84 is 0.8171730877441106\n",
      "r2 score corresponding to  85 is 0.8306950496998491\n",
      "r2 score corresponding to  86 is 0.7748736972983282\n",
      "r2 score corresponding to  87 is 0.8290214924775976\n",
      "r2 score corresponding to  88 is 0.7793581612956649\n",
      "r2 score corresponding to  89 is 0.8382403915187685\n",
      "r2 score corresponding to  90 is 0.7863728935741761\n",
      "r2 score corresponding to  91 is 0.8011659534499108\n",
      "r2 score corresponding to  92 is 0.8243384709383229\n",
      "r2 score corresponding to  93 is 0.8216703095708475\n",
      "r2 score corresponding to  94 is 0.8226308659693344\n",
      "r2 score corresponding to  95 is 0.794111884641578\n",
      "r2 score corresponding to  96 is 0.805893902869906\n",
      "r2 score corresponding to  97 is 0.8041873431198163\n",
      "r2 score corresponding to  98 is 0.7846627981147697\n",
      "r2 score corresponding to  99 is 0.8184025938131222\n",
      "max r2 score corresponding to  60 is 0.8504269352762268\n"
     ]
    }
   ],
   "source": [
    "rfr=RandomForestRegressor(criterion='mae',random_state=100) \n",
    "r_state=maxr2_score(rfr,x,y)  "
   ]
  },
  {
   "cell_type": "code",
   "execution_count": null,
   "metadata": {},
   "outputs": [],
   "source": [
    "# Here I see RandomForestRegressor is working best so I save the model"
   ]
  },
  {
   "cell_type": "code",
   "execution_count": 271,
   "metadata": {},
   "outputs": [
    {
     "data": {
      "text/plain": [
       "['rfr_avocado_price.pkl']"
      ]
     },
     "execution_count": 271,
     "metadata": {},
     "output_type": "execute_result"
    }
   ],
   "source": [
    "from sklearn.externals import joblib\n",
    "joblib.dump(rfr, 'rfr_avocado_price.pkl')"
   ]
  },
  {
   "cell_type": "code",
   "execution_count": null,
   "metadata": {},
   "outputs": [],
   "source": []
  }
 ],
 "metadata": {
  "kernelspec": {
   "display_name": "Python 3",
   "language": "python",
   "name": "python3"
  },
  "language_info": {
   "codemirror_mode": {
    "name": "ipython",
    "version": 3
   },
   "file_extension": ".py",
   "mimetype": "text/x-python",
   "name": "python",
   "nbconvert_exporter": "python",
   "pygments_lexer": "ipython3",
   "version": "3.7.6"
  }
 },
 "nbformat": 4,
 "nbformat_minor": 4
}
